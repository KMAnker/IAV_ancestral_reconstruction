{
 "cells": [
  {
   "cell_type": "code",
   "execution_count": 2,
   "id": "3f1fc99c-f870-4edd-846d-d0dc4b3d1d61",
   "metadata": {},
   "outputs": [],
   "source": [
    "import pandas as pd\n",
    "import os\n",
    "import glob"
   ]
  },
  {
   "cell_type": "code",
   "execution_count": 21,
   "id": "6cb7f8b8-925d-44d3-bbe0-6829da4b48b2",
   "metadata": {},
   "outputs": [],
   "source": [
    "df = pd.read_csv(\"pb2/pb2_branchdiffinfo_aa_br2.txt\", delimiter='\\t')\n",
    "\n",
    "# Filter rows where 'trait_from' is different from 'trait_to'\n",
    "filtered_df = df[df['residue_from'] != df['residue_to']].copy()\n",
    "\n",
    "# Create 'Mutation' column\n",
    "filtered_df['Mutation'] = filtered_df['residue_from'] + filtered_df['seqpos'].astype(str) + filtered_df['residue_to']\n",
    "\n",
    "\n",
    "# Save the filtered DataFrame to a new output file\n",
    "filtered_df.to_csv(\"pb2/pb2_branchdiffs_filtered.txt\", sep='\\t', index=False)"
   ]
  }
 ],
 "metadata": {
  "kernelspec": {
   "display_name": "Python 3 (ipykernel)",
   "language": "python",
   "name": "python3"
  },
  "language_info": {
   "codemirror_mode": {
    "name": "ipython",
    "version": 3
   },
   "file_extension": ".py",
   "mimetype": "text/x-python",
   "name": "python",
   "nbconvert_exporter": "python",
   "pygments_lexer": "ipython3",
   "version": "3.9.5"
  }
 },
 "nbformat": 4,
 "nbformat_minor": 5
}
