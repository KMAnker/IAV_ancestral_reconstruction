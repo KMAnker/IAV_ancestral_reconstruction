{
 "cells": [
  {
   "cell_type": "markdown",
   "id": "be4b7c2e-243b-461c-89b1-4d7a887501ab",
   "metadata": {},
   "source": [
    "## Loading in full sequence data, transform to wide format and one-hot encode"
   ]
  },
  {
   "cell_type": "code",
   "execution_count": 1,
   "id": "bb0f62b8-5c2a-48cd-9867-708c415950eb",
   "metadata": {},
   "outputs": [],
   "source": [
    "import pandas as pd\n",
    "import numpy as np\n",
    "import os"
   ]
  },
  {
   "cell_type": "markdown",
   "id": "83e616be-184a-44f3-b691-c3b5d42f78fe",
   "metadata": {},
   "source": [
    "##### Functions for one-hot encoding sequence files and filtering away uninformative sites"
   ]
  },
  {
   "cell_type": "code",
   "execution_count": 2,
   "id": "9e2544c6-2907-4bf6-a4d3-b2ee1660c4d8",
   "metadata": {},
   "outputs": [],
   "source": [
    "def one_hot_encode(df):\n",
    "    # Get the mutation column names\n",
    "    mut_col_names = [col_name for col_name in df.columns if col_name.endswith(\"_mut\")]\n",
    "\n",
    "    # Create a list to hold the encoded dataframes\n",
    "    encoded_dfs = []\n",
    "\n",
    "    # Iterate over each column in the input dataframe\n",
    "    for col_name in df.columns:\n",
    "        # Check if the column is a mutation column\n",
    "        if col_name in mut_col_names:\n",
    "            # Copy the mutation column to the encoded dataframe\n",
    "            encoded_dfs.append(df[col_name])\n",
    "        else:\n",
    "            # Create a list of new column names for amino acids\n",
    "            new_col_names = [f\"{col_name}_{aa}\" for aa in [\"A\", \"R\", \"N\", \"D\", \"C\", \"Q\", \"E\", \"G\", \"H\", \"I\", \"L\", \"K\", \"M\", \"F\", \"P\", \"S\", \"T\", \"W\", \"Y\", \"V\"]]\n",
    "\n",
    "            # Create a new dataframe with one-hot encoded columns\n",
    "            encoded_cols = pd.get_dummies(df[col_name], prefix=col_name)\n",
    "            encoded_cols = encoded_cols.reindex(columns=new_col_names, fill_value=0)\n",
    "\n",
    "            # Append the encoded columns to the list of encoded dataframes\n",
    "            encoded_dfs.append(encoded_cols)\n",
    "\n",
    "    # Concatenate all the encoded dataframes along the columns axis\n",
    "    encoded_df = pd.concat(encoded_dfs, axis=1)\n",
    "\n",
    "    return encoded_df"
   ]
  },
  {
   "cell_type": "code",
   "execution_count": 3,
   "id": "3669a3a6-e715-4cd0-8224-eb23490d12c5",
   "metadata": {},
   "outputs": [],
   "source": [
    "def filter_uninformative_sites(encoded_df):\n",
    "    # Find the indices of columns with both 0 and 1 values\n",
    "    informative_cols = encoded_df.columns[(encoded_df.eq(0).any() & encoded_df.eq(1).any())]\n",
    "\n",
    "    # Filter the encoded DataFrame to keep only the informative columns\n",
    "    filtered_df = encoded_df[informative_cols]\n",
    "\n",
    "    return filtered_df"
   ]
  },
  {
   "cell_type": "markdown",
   "id": "452d9857-2794-4c66-b796-412c8fdad526",
   "metadata": {},
   "source": [
    "### PB2"
   ]
  },
  {
   "cell_type": "code",
   "execution_count": 32,
   "id": "50f6204b-0213-448f-9b2d-62baba040276",
   "metadata": {
    "tags": []
   },
   "outputs": [],
   "source": [
    "# loading data\n",
    "pb2_fullseqs = pd.read_csv(\"/Users/kman/Desktop/ancestral_reconstruction_project_final/results/anclib/pb2/pb2_branchinfo_aa.txt\", sep=\"\\t\",\n",
    "                                    names=[\"node_from\", \"node_to\", \"branch_len\", \"trait_from\", \"trait_to\", \"traitprob_from\", \"traitprob_to\", \"seq_from\", \"seq_to\", \"branch_type\"])\n",
    "\n",
    "# Convert 'branch_len' column to numeric\n",
    "pb2_fullseqs['branch_len'] = pd.to_numeric(pb2_fullseqs['branch_len'], errors='coerce')\n",
    "# Filter rows where 'branch_len' <= 20\n",
    "pb2_fullseqs_filtered = pb2_fullseqs[pb2_fullseqs['branch_len'] <= 15]\n",
    "\n",
    "\n",
    "## Make wide tables of positions and amino acids in sequences from and to \n",
    "#add Trait column to seq_to file\n",
    "pb2_fullseqs_trait_to = pb2_fullseqs_filtered.assign(Trait=pb2_fullseqs_filtered.trait_from + \"-\" + pb2_fullseqs_filtered.trait_to)\\\n",
    "                                                  .drop(columns=[\"node_from\", \"node_to\", \"branch_len\", \"trait_from\", \"trait_to\", \"traitprob_from\", \"traitprob_to\", \"seq_from\"])\\\n",
    "                                                  .iloc[1:]\n",
    "# Convert to wide format\n",
    "pb2_fullseqs_trait_to_wide = pd.DataFrame(columns=[\"Trait\"]+[\"pos\"+str(i) for i in range(1, 761)])\n",
    "\n",
    "data = []\n",
    "for i in range(len(pb2_fullseqs_trait_to)):\n",
    "    seq_str = pb2_fullseqs_trait_to.iloc[i].seq_to\n",
    "    seq_vec = list(seq_str)\n",
    "    row_data = [pb2_fullseqs_trait_to.iloc[i].Trait] + seq_vec\n",
    "    data.append(row_data)\n",
    "\n",
    "columns = [\"Trait\"] + [\"pos\"+str(i) for i in range(1, 761)]\n",
    "pb2_fullseqs_trait_to_wide = pd.DataFrame(data=data, columns=columns)\n",
    "\n",
    "pb2_aa_columns_to = pb2_fullseqs_trait_to_wide.iloc[:, 1:]\n",
    "\n",
    "#add Trait column to seq_from file\n",
    "pb2_fullseqs_trait_from = pb2_fullseqs_filtered.assign(Trait=pb2_fullseqs_filtered.trait_from + \"-\" + pb2_fullseqs_filtered.trait_to)\\\n",
    "                                                  .drop(columns=[\"node_from\", \"node_to\", \"branch_len\", \"trait_from\", \"trait_to\", \"traitprob_from\", \"traitprob_to\", \"seq_to\"])\\\n",
    "                                                  .iloc[1:]\n",
    "\n",
    "# Convert to wide format\n",
    "pb2_fullseqs_trait_from_wide = pd.DataFrame(columns=[\"Trait\"]+[\"pos\"+str(i) for i in range(1, 761)])\n",
    "\n",
    "data = []\n",
    "for i in range(len(pb2_fullseqs_trait_from)):\n",
    "    seq_str = pb2_fullseqs_trait_from.iloc[i].seq_from\n",
    "    seq_vec = list(seq_str)\n",
    "    row_data = [pb2_fullseqs_trait_from.iloc[i].Trait] + seq_vec\n",
    "    data.append(row_data)\n",
    "\n",
    "columns = [\"Trait\"] + [\"pos\"+str(i) for i in range(1, 761)]\n",
    "pb2_fullseqs_trait_from_wide = pd.DataFrame(data=data, columns=columns)\n",
    "\n",
    "pb2_aa_columns_from = pb2_fullseqs_trait_from_wide.iloc[:, 1:]\n",
    "\n",
    "\n",
    "# Create a new DataFrame for mutation information\n",
    "pb2_fullseq_wide_mut = pd.concat([pb2_fullseqs_trait_to_wide, (pb2_fullseqs_trait_from_wide.iloc[:, 1:] != pb2_fullseqs_trait_to_wide.iloc[:, 1:]).astype(int)], axis=1)\n",
    "\n",
    "# Rename the mutation columns\n",
    "mutation_columns_pb2 = [f'pos{i}_mut' for i in range(1, 761)]\n",
    "pb2_fullseq_wide_mut.columns = list(pb2_fullseqs_trait_to_wide.columns) + mutation_columns_pb2\n",
    "pb2_aa_columns_mut = pb2_fullseq_wide_mut.iloc[:, 1:]"
   ]
  },
  {
   "cell_type": "markdown",
   "id": "b5d7e487-d480-45ed-a9b0-3f7a2cc2f7f8",
   "metadata": {},
   "source": [
    "##### one hot encode"
   ]
  },
  {
   "cell_type": "code",
   "execution_count": 26,
   "id": "f5f841fe-11c8-46be-904b-cc4c76c5013a",
   "metadata": {},
   "outputs": [],
   "source": [
    "pb2_aa_onehot = one_hot_encode(pb2_aa_columns_mut)\n",
    "pb2_aa_onehot_traits = pd.concat([pb2_fullseq_wide_mut.Trait, pb2_aa_onehot], axis=1)\n",
    "pb2_aa_onehot_traits2 = pb2_aa_onehot_traits.assign(Trait_num=pb2_aa_onehot_traits.Trait.replace({\"human-human\": 0, \"swine-swine\": 1, \"human-swine\": 2, \"swine-human\": 3})).drop(columns=[\"Trait\"])\n",
    "pb2_onehot = pb2_aa_onehot_traits2.loc[:, ['Trait_num'] + list(pb2_aa_onehot_traits2.columns[:-1])]"
   ]
  },
  {
   "cell_type": "markdown",
   "id": "4168c803-c374-4ffd-b287-86b374beaed1",
   "metadata": {},
   "source": [
    "##### Filter away uninformative sites"
   ]
  },
  {
   "cell_type": "code",
   "execution_count": 30,
   "id": "6f856d27-e6a6-434b-a0a8-caca700e14a3",
   "metadata": {},
   "outputs": [],
   "source": [
    "pb2_onehot_filtered = filter_uninformative_sites(pb2_onehot)"
   ]
  },
  {
   "cell_type": "markdown",
   "id": "abe591e0-aa9c-48bd-b9f8-ddc00496674c",
   "metadata": {},
   "source": [
    "##### Save as csv"
   ]
  },
  {
   "cell_type": "code",
   "execution_count": 31,
   "id": "3987a3ae-a7b1-4127-83c2-b7c5f6c5091d",
   "metadata": {},
   "outputs": [],
   "source": [
    "folder_name = \"pb2\"\n",
    "if not os.path.exists(folder_name):\n",
    "    os.makedirs(folder_name)\n",
    "\n",
    "file_path = os.path.join(folder_name, \"pb2_onehot_filtered.csv\")\n",
    "pb2_onehot_filtered.to_csv(file_path, index=False)"
   ]
  },
  {
   "cell_type": "markdown",
   "id": "324dbdd4-0925-4a75-b4a4-2fd71a79c254",
   "metadata": {},
   "source": [
    "### PB1"
   ]
  },
  {
   "cell_type": "code",
   "execution_count": 34,
   "id": "4713c6d5-5f91-4ed7-9aa6-ff8ab168f6b6",
   "metadata": {
    "tags": []
   },
   "outputs": [],
   "source": [
    "# loading data\n",
    "pb1_fullseqs = pd.read_csv(\"/Users/kman/Desktop/ancestral_reconstruction_project_final/results/anclib/pb1/pb1_branchinfo_aa.txt\", sep=\"\\t\",\n",
    "                                    names=[\"node_from\", \"node_to\", \"branch_len\", \"trait_from\", \"trait_to\", \"traitprob_from\", \"traitprob_to\", \"seq_from\", \"seq_to\", \"branch_type\"])\n",
    "\n",
    "# Convert 'branch_len' column to numeric\n",
    "pb1_fullseqs['branch_len'] = pd.to_numeric(pb1_fullseqs['branch_len'], errors='coerce')\n",
    "# Filter rows where 'branch_len' <= 20\n",
    "pb1_fullseqs_filtered = pb1_fullseqs[pb1_fullseqs['branch_len'] <= 15]\n",
    "\n",
    "\n",
    "## Make wide tables of positions and amino acids in sequences from and to \n",
    "#add Trait column to seq_to file\n",
    "pb1_fullseqs_trait_to = pb1_fullseqs_filtered.assign(Trait=pb1_fullseqs_filtered.trait_from + \"-\" + pb1_fullseqs_filtered.trait_to)\\\n",
    "                                                  .drop(columns=[\"node_from\", \"node_to\", \"branch_len\", \"trait_from\", \"trait_to\", \"traitprob_from\", \"traitprob_to\", \"seq_from\"])\\\n",
    "                                                  .iloc[1:]\n",
    "# Convert to wide format\n",
    "pb1_fullseqs_trait_to_wide = pd.DataFrame(columns=[\"Trait\"]+[\"pos\"+str(i) for i in range(1, 759)])\n",
    "\n",
    "data = []\n",
    "for i in range(len(pb1_fullseqs_trait_to)):\n",
    "    seq_str = pb1_fullseqs_trait_to.iloc[i].seq_to\n",
    "    seq_vec = list(seq_str)\n",
    "    row_data = [pb1_fullseqs_trait_to.iloc[i].Trait] + seq_vec\n",
    "    data.append(row_data)\n",
    "\n",
    "columns = [\"Trait\"] + [\"pos\"+str(i) for i in range(1, 759)]\n",
    "pb1_fullseqs_trait_to_wide = pd.DataFrame(data=data, columns=columns)\n",
    "\n",
    "pb1_aa_columns_to = pb1_fullseqs_trait_to_wide.iloc[:, 1:]\n",
    "\n",
    "#add Trait column to seq_from file\n",
    "pb1_fullseqs_trait_from = pb1_fullseqs_filtered.assign(Trait=pb1_fullseqs_filtered.trait_from + \"-\" + pb1_fullseqs_filtered.trait_to)\\\n",
    "                                                  .drop(columns=[\"node_from\", \"node_to\", \"branch_len\", \"trait_from\", \"trait_to\", \"traitprob_from\", \"traitprob_to\", \"seq_to\"])\\\n",
    "                                                  .iloc[1:]\n",
    "\n",
    "# Convert to wide format\n",
    "pb1_fullseqs_trait_from_wide = pd.DataFrame(columns=[\"Trait\"]+[\"pos\"+str(i) for i in range(1, 759)])\n",
    "\n",
    "data = []\n",
    "for i in range(len(pb1_fullseqs_trait_from)):\n",
    "    seq_str = pb1_fullseqs_trait_from.iloc[i].seq_from\n",
    "    seq_vec = list(seq_str)\n",
    "    row_data = [pb1_fullseqs_trait_from.iloc[i].Trait] + seq_vec\n",
    "    data.append(row_data)\n",
    "\n",
    "columns = [\"Trait\"] + [\"pos\"+str(i) for i in range(1, 759)]\n",
    "pb1_fullseqs_trait_from_wide = pd.DataFrame(data=data, columns=columns)\n",
    "\n",
    "pb1_aa_columns_from = pb1_fullseqs_trait_from_wide.iloc[:, 1:]\n",
    "\n",
    "\n",
    "# Create a new DataFrame for mutation information\n",
    "pb1_fullseq_wide_mut = pd.concat([pb1_fullseqs_trait_to_wide, (pb1_fullseqs_trait_from_wide.iloc[:, 1:] != pb1_fullseqs_trait_to_wide.iloc[:, 1:]).astype(int)], axis=1)\n",
    "\n",
    "# Rename the mutation columns\n",
    "mutation_columns_pb1 = [f'pos{i}_mut' for i in range(1, 759)]\n",
    "pb1_fullseq_wide_mut.columns = list(pb1_fullseqs_trait_to_wide.columns) + mutation_columns_pb1\n",
    "pb1_aa_columns_mut = pb1_fullseq_wide_mut.iloc[:, 1:]"
   ]
  },
  {
   "cell_type": "markdown",
   "id": "e97a85d5-0864-47a4-a6d0-a2ab0cdb78c6",
   "metadata": {},
   "source": [
    "##### one hot encode"
   ]
  },
  {
   "cell_type": "code",
   "execution_count": 35,
   "id": "54bb736d-8e03-4a15-a2f5-8f2c3d281e14",
   "metadata": {},
   "outputs": [],
   "source": [
    "pb1_aa_onehot = one_hot_encode(pb1_aa_columns_mut)\n",
    "pb1_aa_onehot_traits = pd.concat([pb1_fullseq_wide_mut.Trait, pb1_aa_onehot], axis=1)\n",
    "pb1_aa_onehot_traits2 = pb1_aa_onehot_traits.assign(Trait_num=pb1_aa_onehot_traits.Trait.replace({\"human-human\": 0, \"swine-swine\": 1, \"human-swine\": 2, \"swine-human\": 3})).drop(columns=[\"Trait\"])\n",
    "pb1_onehot = pb1_aa_onehot_traits2.loc[:, ['Trait_num'] + list(pb1_aa_onehot_traits2.columns[:-1])]"
   ]
  },
  {
   "cell_type": "markdown",
   "id": "4a918410-fc62-49d7-9dff-93ff62d7c085",
   "metadata": {},
   "source": [
    "##### Filter away uninformative sites"
   ]
  },
  {
   "cell_type": "code",
   "execution_count": 36,
   "id": "5ef2f66b-dbb5-4f64-9f29-daf4cc006087",
   "metadata": {},
   "outputs": [],
   "source": [
    "pb1_onehot_filtered = filter_uninformative_sites(pb1_onehot)"
   ]
  },
  {
   "cell_type": "markdown",
   "id": "3adccae7-2f72-4f66-900a-2a52d67d298a",
   "metadata": {},
   "source": [
    "##### Save as csv"
   ]
  },
  {
   "cell_type": "code",
   "execution_count": 37,
   "id": "263db5b2-09ea-42ea-9580-1f52f860c67d",
   "metadata": {},
   "outputs": [],
   "source": [
    "folder_name = \"pb1\"\n",
    "if not os.path.exists(folder_name):\n",
    "    os.makedirs(folder_name)\n",
    "\n",
    "file_path = os.path.join(folder_name, \"pb1_onehot_filtered.csv\")\n",
    "pb1_onehot_filtered.to_csv(file_path, index=False)"
   ]
  },
  {
   "cell_type": "markdown",
   "id": "f7ba2b41-bc27-4bf4-9e08-6846a6f784b2",
   "metadata": {},
   "source": [
    "### PB1-F2"
   ]
  },
  {
   "cell_type": "code",
   "execution_count": 38,
   "id": "d97bcaea-d4ff-4d38-8b94-e062a96b04d4",
   "metadata": {
    "tags": []
   },
   "outputs": [],
   "source": [
    "# loading data\n",
    "pb1f2_fullseqs = pd.read_csv(\"/Users/kman/Desktop/ancestral_reconstruction_project_final/results/anclib/pb1/pb1-f2_branchinfo_aa.txt\", sep=\"\\t\",\n",
    "                                    names=[\"node_from\", \"node_to\", \"branch_len\", \"trait_from\", \"trait_to\", \"traitprob_from\", \"traitprob_to\", \"seq_from\", \"seq_to\", \"branch_type\"])\n",
    "\n",
    "# Convert 'branch_len' column to numeric\n",
    "pb1f2_fullseqs['branch_len'] = pd.to_numeric(pb1f2_fullseqs['branch_len'], errors='coerce')\n",
    "# Filter rows where 'branch_len' <= 20\n",
    "pb1f2_fullseqs_filtered = pb1f2_fullseqs[pb1f2_fullseqs['branch_len'] <= 15]\n",
    "\n",
    "\n",
    "## Make wide tables of positions and amino acids in sequences from and to \n",
    "#add Trait column to seq_to file\n",
    "pb1f2_fullseqs_trait_to = pb1f2_fullseqs_filtered.assign(Trait=pb1f2_fullseqs_filtered.trait_from + \"-\" + pb1f2_fullseqs_filtered.trait_to)\\\n",
    "                                                  .drop(columns=[\"node_from\", \"node_to\", \"branch_len\", \"trait_from\", \"trait_to\", \"traitprob_from\", \"traitprob_to\", \"seq_from\"])\\\n",
    "                                                  .iloc[1:]\n",
    "# Convert to wide format\n",
    "pb1f2_fullseqs_trait_to_wide = pd.DataFrame(columns=[\"Trait\"]+[\"pos\"+str(i) for i in range(1, 102)])\n",
    "\n",
    "data = []\n",
    "for i in range(len(pb1f2_fullseqs_trait_to)):\n",
    "    seq_str = pb1f2_fullseqs_trait_to.iloc[i].seq_to\n",
    "    seq_vec = list(seq_str)\n",
    "    row_data = [pb1f2_fullseqs_trait_to.iloc[i].Trait] + seq_vec\n",
    "    data.append(row_data)\n",
    "\n",
    "columns = [\"Trait\"] + [\"pos\"+str(i) for i in range(1, 102)]\n",
    "pb1f2_fullseqs_trait_to_wide = pd.DataFrame(data=data, columns=columns)\n",
    "\n",
    "pb1f2_aa_columns_to = pb1f2_fullseqs_trait_to_wide.iloc[:, 1:]\n",
    "\n",
    "#add Trait column to seq_from file\n",
    "pb1f2_fullseqs_trait_from = pb1f2_fullseqs_filtered.assign(Trait=pb1f2_fullseqs_filtered.trait_from + \"-\" + pb1f2_fullseqs_filtered.trait_to)\\\n",
    "                                                  .drop(columns=[\"node_from\", \"node_to\", \"branch_len\", \"trait_from\", \"trait_to\", \"traitprob_from\", \"traitprob_to\", \"seq_to\"])\\\n",
    "                                                  .iloc[1:]\n",
    "\n",
    "# Convert to wide format\n",
    "pb1f2_fullseqs_trait_from_wide = pd.DataFrame(columns=[\"Trait\"]+[\"pos\"+str(i) for i in range(1, 102)])\n",
    "\n",
    "data = []\n",
    "for i in range(len(pb1f2_fullseqs_trait_from)):\n",
    "    seq_str = pb1f2_fullseqs_trait_from.iloc[i].seq_from\n",
    "    seq_vec = list(seq_str)\n",
    "    row_data = [pb1f2_fullseqs_trait_from.iloc[i].Trait] + seq_vec\n",
    "    data.append(row_data)\n",
    "\n",
    "columns = [\"Trait\"] + [\"pos\"+str(i) for i in range(1, 102)]\n",
    "pb1f2_fullseqs_trait_from_wide = pd.DataFrame(data=data, columns=columns)\n",
    "\n",
    "pb1f2_aa_columns_from = pb1f2_fullseqs_trait_from_wide.iloc[:, 1:]\n",
    "\n",
    "\n",
    "# Create a new DataFrame for mutation information\n",
    "pb1f2_fullseq_wide_mut = pd.concat([pb1f2_fullseqs_trait_to_wide, (pb1f2_fullseqs_trait_from_wide.iloc[:, 1:] != pb1f2_fullseqs_trait_to_wide.iloc[:, 1:]).astype(int)], axis=1)\n",
    "\n",
    "# Rename the mutation columns\n",
    "mutation_columns_pb1f2 = [f'pos{i}_mut' for i in range(1, 102)]\n",
    "pb1f2_fullseq_wide_mut.columns = list(pb1f2_fullseqs_trait_to_wide.columns) + mutation_columns_pb1f2\n",
    "pb1f2_aa_columns_mut = pb1f2_fullseq_wide_mut.iloc[:, 1:]"
   ]
  },
  {
   "cell_type": "markdown",
   "id": "928b0032-18a7-408c-9b71-08e932f215f3",
   "metadata": {},
   "source": [
    "##### one hot encode"
   ]
  },
  {
   "cell_type": "code",
   "execution_count": 39,
   "id": "c8cd7a37-1c1b-4034-8b09-1d85998a8d2a",
   "metadata": {},
   "outputs": [],
   "source": [
    "pb1f2_aa_onehot = one_hot_encode(pb1f2_aa_columns_mut)\n",
    "pb1f2_aa_onehot_traits = pd.concat([pb1f2_fullseq_wide_mut.Trait, pb1f2_aa_onehot], axis=1)\n",
    "pb1f2_aa_onehot_traits2 = pb1f2_aa_onehot_traits.assign(Trait_num=pb1f2_aa_onehot_traits.Trait.replace({\"human-human\": 0, \"swine-swine\": 1, \"human-swine\": 2, \"swine-human\": 3})).drop(columns=[\"Trait\"])\n",
    "pb1f2_onehot = pb1f2_aa_onehot_traits2.loc[:, ['Trait_num'] + list(pb1f2_aa_onehot_traits2.columns[:-1])]"
   ]
  },
  {
   "cell_type": "markdown",
   "id": "f8412bc4-56ee-4556-a49e-6f14e2a97113",
   "metadata": {},
   "source": [
    "##### Filter away uninformative sites"
   ]
  },
  {
   "cell_type": "code",
   "execution_count": 40,
   "id": "16f9f83b-6653-4d58-8bc5-51a8347af1cc",
   "metadata": {},
   "outputs": [],
   "source": [
    "pb1f2_onehot_filtered = filter_uninformative_sites(pb1f2_onehot)"
   ]
  },
  {
   "cell_type": "markdown",
   "id": "a48e2007-419b-4adc-bac4-e0af5cba85d8",
   "metadata": {},
   "source": [
    "##### Save as csv"
   ]
  },
  {
   "cell_type": "code",
   "execution_count": 41,
   "id": "644d874e-dc85-4590-8b43-10514603b618",
   "metadata": {},
   "outputs": [],
   "source": [
    "folder_name = \"pb1\"\n",
    "if not os.path.exists(folder_name):\n",
    "    os.makedirs(folder_name)\n",
    "\n",
    "file_path = os.path.join(folder_name, \"pb1-f2_onehot_filtered.csv\")\n",
    "pb1f2_onehot_filtered.to_csv(file_path, index=False)"
   ]
  },
  {
   "cell_type": "markdown",
   "id": "f3301516-c6cc-4649-ae14-3b154915f4e4",
   "metadata": {},
   "source": [
    "### PA"
   ]
  },
  {
   "cell_type": "code",
   "execution_count": 42,
   "id": "26a0b1a4-4f7e-4f76-9ca7-3f44cf294b53",
   "metadata": {
    "tags": []
   },
   "outputs": [],
   "source": [
    "# loading data\n",
    "pa_fullseqs = pd.read_csv(\"/Users/kman/Desktop/ancestral_reconstruction_project_final/results/anclib/pa/pa_branchinfo_aa.txt\", sep=\"\\t\",\n",
    "                                    names=[\"node_from\", \"node_to\", \"branch_len\", \"trait_from\", \"trait_to\", \"traitprob_from\", \"traitprob_to\", \"seq_from\", \"seq_to\", \"branch_type\"])\n",
    "\n",
    "# Convert 'branch_len' column to numeric\n",
    "pa_fullseqs['branch_len'] = pd.to_numeric(pa_fullseqs['branch_len'], errors='coerce')\n",
    "# Filter rows where 'branch_len' <= 20\n",
    "pa_fullseqs_filtered = pa_fullseqs[pa_fullseqs['branch_len'] <= 15]\n",
    "\n",
    "\n",
    "## Make wide tables of positions and amino acids in sequences from and to \n",
    "#add Trait column to seq_to file\n",
    "pa_fullseqs_trait_to = pa_fullseqs_filtered.assign(Trait=pa_fullseqs_filtered.trait_from + \"-\" + pa_fullseqs_filtered.trait_to)\\\n",
    "                                                  .drop(columns=[\"node_from\", \"node_to\", \"branch_len\", \"trait_from\", \"trait_to\", \"traitprob_from\", \"traitprob_to\", \"seq_from\"])\\\n",
    "                                                  .iloc[1:]\n",
    "# Convert to wide format\n",
    "pa_fullseqs_trait_to_wide = pd.DataFrame(columns=[\"Trait\"]+[\"pos\"+str(i) for i in range(1, 718)])\n",
    "\n",
    "data = []\n",
    "for i in range(len(pa_fullseqs_trait_to)):\n",
    "    seq_str = pa_fullseqs_trait_to.iloc[i].seq_to\n",
    "    seq_vec = list(seq_str)\n",
    "    row_data = [pa_fullseqs_trait_to.iloc[i].Trait] + seq_vec\n",
    "    data.append(row_data)\n",
    "\n",
    "columns = [\"Trait\"] + [\"pos\"+str(i) for i in range(1, 718)]\n",
    "pa_fullseqs_trait_to_wide = pd.DataFrame(data=data, columns=columns)\n",
    "\n",
    "pa_aa_columns_to = pa_fullseqs_trait_to_wide.iloc[:, 1:]\n",
    "\n",
    "#add Trait column to seq_from file\n",
    "pa_fullseqs_trait_from = pa_fullseqs_filtered.assign(Trait=pa_fullseqs_filtered.trait_from + \"-\" + pa_fullseqs_filtered.trait_to)\\\n",
    "                                                  .drop(columns=[\"node_from\", \"node_to\", \"branch_len\", \"trait_from\", \"trait_to\", \"traitprob_from\", \"traitprob_to\", \"seq_to\"])\\\n",
    "                                                  .iloc[1:]\n",
    "\n",
    "# Convert to wide format\n",
    "pa_fullseqs_trait_from_wide = pd.DataFrame(columns=[\"Trait\"]+[\"pos\"+str(i) for i in range(1, 718)])\n",
    "\n",
    "data = []\n",
    "for i in range(len(pa_fullseqs_trait_from)):\n",
    "    seq_str = pa_fullseqs_trait_from.iloc[i].seq_from\n",
    "    seq_vec = list(seq_str)\n",
    "    row_data = [pa_fullseqs_trait_from.iloc[i].Trait] + seq_vec\n",
    "    data.append(row_data)\n",
    "\n",
    "columns = [\"Trait\"] + [\"pos\"+str(i) for i in range(1, 718)]\n",
    "pa_fullseqs_trait_from_wide = pd.DataFrame(data=data, columns=columns)\n",
    "\n",
    "pa_aa_columns_from = pa_fullseqs_trait_from_wide.iloc[:, 1:]\n",
    "\n",
    "\n",
    "# Create a new DataFrame for mutation information\n",
    "pa_fullseq_wide_mut = pd.concat([pa_fullseqs_trait_to_wide, (pa_fullseqs_trait_from_wide.iloc[:, 1:] != pa_fullseqs_trait_to_wide.iloc[:, 1:]).astype(int)], axis=1)\n",
    "\n",
    "# Rename the mutation columns\n",
    "mutation_columns_pa = [f'pos{i}_mut' for i in range(1, 718)]\n",
    "pa_fullseq_wide_mut.columns = list(pa_fullseqs_trait_to_wide.columns) + mutation_columns_pa\n",
    "pa_aa_columns_mut = pa_fullseq_wide_mut.iloc[:, 1:]"
   ]
  },
  {
   "cell_type": "markdown",
   "id": "aa19bf64-4f1d-4b49-8114-8000c8a492ab",
   "metadata": {},
   "source": [
    "##### one hot encode"
   ]
  },
  {
   "cell_type": "code",
   "execution_count": 43,
   "id": "1caef52a-aefe-4f0d-8eb1-dde765d9f11e",
   "metadata": {},
   "outputs": [],
   "source": [
    "pa_aa_onehot = one_hot_encode(pa_aa_columns_mut)\n",
    "pa_aa_onehot_traits = pd.concat([pa_fullseq_wide_mut.Trait, pa_aa_onehot], axis=1)\n",
    "pa_aa_onehot_traits2 = pa_aa_onehot_traits.assign(Trait_num=pa_aa_onehot_traits.Trait.replace({\"human-human\": 0, \"swine-swine\": 1, \"human-swine\": 2, \"swine-human\": 3})).drop(columns=[\"Trait\"])\n",
    "pa_onehot = pa_aa_onehot_traits2.loc[:, ['Trait_num'] + list(pa_aa_onehot_traits2.columns[:-1])]"
   ]
  },
  {
   "cell_type": "markdown",
   "id": "e3a7e179-8d77-41aa-819b-77557f0a44de",
   "metadata": {},
   "source": [
    "##### Filter away uninformative sites"
   ]
  },
  {
   "cell_type": "code",
   "execution_count": 44,
   "id": "d1819dd3-4e7a-493b-bf4f-e4a2b8027245",
   "metadata": {},
   "outputs": [],
   "source": [
    "pa_onehot_filtered = filter_uninformative_sites(pa_onehot)"
   ]
  },
  {
   "cell_type": "markdown",
   "id": "d4c0d4c4-3d3c-4586-8016-f8ab7a34483b",
   "metadata": {},
   "source": [
    "##### Save as csv"
   ]
  },
  {
   "cell_type": "code",
   "execution_count": 45,
   "id": "0aa0c6bc-979f-47bd-bc65-8bb48436c8d7",
   "metadata": {},
   "outputs": [],
   "source": [
    "folder_name = \"pa\"\n",
    "if not os.path.exists(folder_name):\n",
    "    os.makedirs(folder_name)\n",
    "\n",
    "file_path = os.path.join(folder_name, \"pa_onehot_filtered.csv\")\n",
    "pa_onehot_filtered.to_csv(file_path, index=False)"
   ]
  },
  {
   "cell_type": "markdown",
   "id": "bb57aa92-2f01-473b-a22d-c0940ed1cfd1",
   "metadata": {},
   "source": [
    "### PA-X"
   ]
  },
  {
   "cell_type": "code",
   "execution_count": 46,
   "id": "b0d566bb-3ddd-4c92-b0c0-678088952a64",
   "metadata": {
    "tags": []
   },
   "outputs": [],
   "source": [
    "# loading data\n",
    "pax_fullseqs = pd.read_csv(\"/Users/kman/Desktop/ancestral_reconstruction_project_final/results/anclib/pa/pa-x_branchinfo_aa.txt\", sep=\"\\t\",\n",
    "                                    names=[\"node_from\", \"node_to\", \"branch_len\", \"trait_from\", \"trait_to\", \"traitprob_from\", \"traitprob_to\", \"seq_from\", \"seq_to\", \"branch_type\"])\n",
    "\n",
    "# Convert 'branch_len' column to numeric\n",
    "pax_fullseqs['branch_len'] = pd.to_numeric(pax_fullseqs['branch_len'], errors='coerce')\n",
    "# Filter rows where 'branch_len' <= 20\n",
    "pax_fullseqs_filtered = pax_fullseqs[pax_fullseqs['branch_len'] <= 15]\n",
    "\n",
    "\n",
    "## Make wide tables of positions and amino acids in sequences from and to \n",
    "#add Trait column to seq_to file\n",
    "pax_fullseqs_trait_to = pax_fullseqs_filtered.assign(Trait=pax_fullseqs_filtered.trait_from + \"-\" + pax_fullseqs_filtered.trait_to)\\\n",
    "                                                  .drop(columns=[\"node_from\", \"node_to\", \"branch_len\", \"trait_from\", \"trait_to\", \"traitprob_from\", \"traitprob_to\", \"seq_from\"])\\\n",
    "                                                  .iloc[1:]\n",
    "# Convert to wide format\n",
    "pax_fullseqs_trait_to_wide = pd.DataFrame(columns=[\"Trait\"]+[\"pos\"+str(i) for i in range(1, 262)])\n",
    "\n",
    "data = []\n",
    "for i in range(len(pax_fullseqs_trait_to)):\n",
    "    seq_str = pax_fullseqs_trait_to.iloc[i].seq_to\n",
    "    seq_vec = list(seq_str)\n",
    "    row_data = [pax_fullseqs_trait_to.iloc[i].Trait] + seq_vec\n",
    "    data.append(row_data)\n",
    "\n",
    "columns = [\"Trait\"] + [\"pos\"+str(i) for i in range(1, 262)]\n",
    "pax_fullseqs_trait_to_wide = pd.DataFrame(data=data, columns=columns)\n",
    "\n",
    "pax_aa_columns_to = pax_fullseqs_trait_to_wide.iloc[:, 1:]\n",
    "\n",
    "#add Trait column to seq_from file\n",
    "pax_fullseqs_trait_from = pax_fullseqs_filtered.assign(Trait=pax_fullseqs_filtered.trait_from + \"-\" + pax_fullseqs_filtered.trait_to)\\\n",
    "                                                  .drop(columns=[\"node_from\", \"node_to\", \"branch_len\", \"trait_from\", \"trait_to\", \"traitprob_from\", \"traitprob_to\", \"seq_to\"])\\\n",
    "                                                  .iloc[1:]\n",
    "\n",
    "# Convert to wide format\n",
    "pax_fullseqs_trait_from_wide = pd.DataFrame(columns=[\"Trait\"]+[\"pos\"+str(i) for i in range(1, 262)])\n",
    "\n",
    "data = []\n",
    "for i in range(len(pax_fullseqs_trait_from)):\n",
    "    seq_str = pax_fullseqs_trait_from.iloc[i].seq_from\n",
    "    seq_vec = list(seq_str)\n",
    "    row_data = [pax_fullseqs_trait_from.iloc[i].Trait] + seq_vec\n",
    "    data.append(row_data)\n",
    "\n",
    "columns = [\"Trait\"] + [\"pos\"+str(i) for i in range(1, 262)]\n",
    "pax_fullseqs_trait_from_wide = pd.DataFrame(data=data, columns=columns)\n",
    "\n",
    "pax_aa_columns_from = pax_fullseqs_trait_from_wide.iloc[:, 1:]\n",
    "\n",
    "\n",
    "# Create a new DataFrame for mutation information\n",
    "pax_fullseq_wide_mut = pd.concat([pax_fullseqs_trait_to_wide, (pax_fullseqs_trait_from_wide.iloc[:, 1:] != pax_fullseqs_trait_to_wide.iloc[:, 1:]).astype(int)], axis=1)\n",
    "\n",
    "# Rename the mutation columns\n",
    "mutation_columns_pax = [f'pos{i}_mut' for i in range(1, 262)]\n",
    "pax_fullseq_wide_mut.columns = list(pax_fullseqs_trait_to_wide.columns) + mutation_columns_pax\n",
    "pax_aa_columns_mut = pax_fullseq_wide_mut.iloc[:, 1:]"
   ]
  },
  {
   "cell_type": "markdown",
   "id": "296e4819-af94-4aca-acbc-45c939a8cd55",
   "metadata": {},
   "source": [
    "##### one hot encode"
   ]
  },
  {
   "cell_type": "code",
   "execution_count": 47,
   "id": "b1e1b40c-a0de-42c7-8869-6df001de3b78",
   "metadata": {},
   "outputs": [],
   "source": [
    "pax_aa_onehot = one_hot_encode(pax_aa_columns_mut)\n",
    "pax_aa_onehot_traits = pd.concat([pax_fullseq_wide_mut.Trait, pax_aa_onehot], axis=1)\n",
    "pax_aa_onehot_traits2 = pax_aa_onehot_traits.assign(Trait_num=pax_aa_onehot_traits.Trait.replace({\"human-human\": 0, \"swine-swine\": 1, \"human-swine\": 2, \"swine-human\": 3})).drop(columns=[\"Trait\"])\n",
    "pax_onehot = pax_aa_onehot_traits2.loc[:, ['Trait_num'] + list(pax_aa_onehot_traits2.columns[:-1])]"
   ]
  },
  {
   "cell_type": "markdown",
   "id": "280808c0-7e14-4904-9608-1f55243fae14",
   "metadata": {},
   "source": [
    "##### Filter away uninformative sites"
   ]
  },
  {
   "cell_type": "code",
   "execution_count": 48,
   "id": "76d5fa79-0f02-496a-9a5d-48f1874bb6b0",
   "metadata": {},
   "outputs": [],
   "source": [
    "pax_onehot_filtered = filter_uninformative_sites(pax_onehot)"
   ]
  },
  {
   "cell_type": "markdown",
   "id": "c1ba7760-554d-4e1c-a8e5-1838fbf42480",
   "metadata": {},
   "source": [
    "##### Save as csv"
   ]
  },
  {
   "cell_type": "code",
   "execution_count": 49,
   "id": "c1cd242d-529c-4f51-a957-fe7e2250f038",
   "metadata": {},
   "outputs": [],
   "source": [
    "folder_name = \"pa\"\n",
    "if not os.path.exists(folder_name):\n",
    "    os.makedirs(folder_name)\n",
    "\n",
    "file_path = os.path.join(folder_name, \"pa-x_onehot_filtered.csv\")\n",
    "pax_onehot_filtered.to_csv(file_path, index=False)"
   ]
  },
  {
   "cell_type": "markdown",
   "id": "22cec4c1-26da-40af-aef4-2191507b4031",
   "metadata": {},
   "source": [
    "### H1"
   ]
  },
  {
   "cell_type": "code",
   "execution_count": 51,
   "id": "1cc5509c-57cd-44b8-a1d4-5d6bd7a4d9d2",
   "metadata": {
    "tags": []
   },
   "outputs": [],
   "source": [
    "# loading data\n",
    "h1_fullseqs = pd.read_csv(\"/Users/kman/Desktop/ancestral_reconstruction_project_final/results/anclib/ha/h1_branchinfo_aa.txt\", sep=\"\\t\",\n",
    "                                    names=[\"node_from\", \"node_to\", \"branch_len\", \"trait_from\", \"trait_to\", \"traitprob_from\", \"traitprob_to\", \"seq_from\", \"seq_to\", \"branch_type\"])\n",
    "\n",
    "# Convert 'branch_len' column to numeric\n",
    "h1_fullseqs['branch_len'] = pd.to_numeric(h1_fullseqs['branch_len'], errors='coerce')\n",
    "# Filter rows where 'branch_len' <= 20\n",
    "h1_fullseqs_filtered = h1_fullseqs[h1_fullseqs['branch_len'] <= 15]\n",
    "\n",
    "\n",
    "## Make wide tables of positions and amino acids in sequences from and to \n",
    "#add Trait column to seq_to file\n",
    "h1_fullseqs_trait_to = h1_fullseqs_filtered.assign(Trait=h1_fullseqs_filtered.trait_from + \"-\" + h1_fullseqs_filtered.trait_to)\\\n",
    "                                                  .drop(columns=[\"node_from\", \"node_to\", \"branch_len\", \"trait_from\", \"trait_to\", \"traitprob_from\", \"traitprob_to\", \"seq_from\"])\\\n",
    "                                                  .iloc[1:]\n",
    "# Convert to wide format\n",
    "h1_fullseqs_trait_to_wide = pd.DataFrame(columns=[\"Trait\"]+[\"pos\"+str(i) for i in range(1, 567)])\n",
    "\n",
    "data = []\n",
    "for i in range(len(h1_fullseqs_trait_to)):\n",
    "    seq_str = h1_fullseqs_trait_to.iloc[i].seq_to\n",
    "    seq_vec = list(seq_str)\n",
    "    row_data = [h1_fullseqs_trait_to.iloc[i].Trait] + seq_vec\n",
    "    data.append(row_data)\n",
    "\n",
    "columns = [\"Trait\"] + [\"pos\"+str(i) for i in range(1, 567)]\n",
    "h1_fullseqs_trait_to_wide = pd.DataFrame(data=data, columns=columns)\n",
    "\n",
    "h1_aa_columns_to = h1_fullseqs_trait_to_wide.iloc[:, 1:]\n",
    "\n",
    "#add Trait column to seq_from file\n",
    "h1_fullseqs_trait_from = h1_fullseqs_filtered.assign(Trait=h1_fullseqs_filtered.trait_from + \"-\" + h1_fullseqs_filtered.trait_to)\\\n",
    "                                                  .drop(columns=[\"node_from\", \"node_to\", \"branch_len\", \"trait_from\", \"trait_to\", \"traitprob_from\", \"traitprob_to\", \"seq_to\"])\\\n",
    "                                                  .iloc[1:]\n",
    "\n",
    "# Convert to wide format\n",
    "h1_fullseqs_trait_from_wide = pd.DataFrame(columns=[\"Trait\"]+[\"pos\"+str(i) for i in range(1, 567)])\n",
    "\n",
    "data = []\n",
    "for i in range(len(h1_fullseqs_trait_from)):\n",
    "    seq_str = h1_fullseqs_trait_from.iloc[i].seq_from\n",
    "    seq_vec = list(seq_str)\n",
    "    row_data = [h1_fullseqs_trait_from.iloc[i].Trait] + seq_vec\n",
    "    data.append(row_data)\n",
    "\n",
    "columns = [\"Trait\"] + [\"pos\"+str(i) for i in range(1, 567)]\n",
    "h1_fullseqs_trait_from_wide = pd.DataFrame(data=data, columns=columns)\n",
    "\n",
    "h1_aa_columns_from = h1_fullseqs_trait_from_wide.iloc[:, 1:]\n",
    "\n",
    "\n",
    "# Create a new DataFrame for mutation information\n",
    "h1_fullseq_wide_mut = pd.concat([h1_fullseqs_trait_to_wide, (h1_fullseqs_trait_from_wide.iloc[:, 1:] != h1_fullseqs_trait_to_wide.iloc[:, 1:]).astype(int)], axis=1)\n",
    "\n",
    "# Rename the mutation columns\n",
    "mutation_columns_h1 = [f'pos{i}_mut' for i in range(1, 567)]\n",
    "h1_fullseq_wide_mut.columns = list(h1_fullseqs_trait_to_wide.columns) + mutation_columns_h1\n",
    "h1_aa_columns_mut = h1_fullseq_wide_mut.iloc[:, 1:]"
   ]
  },
  {
   "cell_type": "markdown",
   "id": "dd064a9a-b18b-4571-84ca-740cc9fbdb5c",
   "metadata": {},
   "source": [
    "##### one hot encode"
   ]
  },
  {
   "cell_type": "code",
   "execution_count": 52,
   "id": "5dac9c9d-c0fc-4834-a0b3-c07724337630",
   "metadata": {},
   "outputs": [],
   "source": [
    "h1_aa_onehot = one_hot_encode(h1_aa_columns_mut)\n",
    "h1_aa_onehot_traits = pd.concat([h1_fullseq_wide_mut.Trait, h1_aa_onehot], axis=1)\n",
    "h1_aa_onehot_traits2 = h1_aa_onehot_traits.assign(Trait_num=h1_aa_onehot_traits.Trait.replace({\"human-human\": 0, \"swine-swine\": 1, \"human-swine\": 2, \"swine-human\": 3})).drop(columns=[\"Trait\"])\n",
    "h1_onehot = h1_aa_onehot_traits2.loc[:, ['Trait_num'] + list(h1_aa_onehot_traits2.columns[:-1])]"
   ]
  },
  {
   "cell_type": "markdown",
   "id": "95312c9c-8217-441b-b0d3-ddf18576d183",
   "metadata": {},
   "source": [
    "##### Filter away uninformative sites"
   ]
  },
  {
   "cell_type": "code",
   "execution_count": 53,
   "id": "f36a7239-d329-4671-8f2b-5206da29263d",
   "metadata": {},
   "outputs": [],
   "source": [
    "h1_onehot_filtered = filter_uninformative_sites(h1_onehot)"
   ]
  },
  {
   "cell_type": "markdown",
   "id": "14cb514c-8582-4b1a-aae2-b5fe6d345223",
   "metadata": {},
   "source": [
    "##### Save as csv"
   ]
  },
  {
   "cell_type": "code",
   "execution_count": 54,
   "id": "1df980a4-8018-424d-becd-445b1bcfa16e",
   "metadata": {},
   "outputs": [],
   "source": [
    "folder_name = \"ha\"\n",
    "if not os.path.exists(folder_name):\n",
    "    os.makedirs(folder_name)\n",
    "\n",
    "file_path = os.path.join(folder_name, \"h1_onehot_filtered.csv\")\n",
    "h1_onehot_filtered.to_csv(file_path, index=False)"
   ]
  },
  {
   "cell_type": "markdown",
   "id": "b58afe7d-626e-416c-8a94-789d6c47de17",
   "metadata": {},
   "source": [
    "### H3"
   ]
  },
  {
   "cell_type": "code",
   "execution_count": 55,
   "id": "ede39540-7284-4737-aea2-600c8456d146",
   "metadata": {
    "tags": []
   },
   "outputs": [],
   "source": [
    "# loading data\n",
    "h3_fullseqs = pd.read_csv(\"/Users/kman/Desktop/ancestral_reconstruction_project_final/results/anclib/ha/h3_branchinfo_aa.txt\", sep=\"\\t\",\n",
    "                                    names=[\"node_from\", \"node_to\", \"branch_len\", \"trait_from\", \"trait_to\", \"traitprob_from\", \"traitprob_to\", \"seq_from\", \"seq_to\", \"branch_type\"])\n",
    "\n",
    "# Convert 'branch_len' column to numeric\n",
    "h3_fullseqs['branch_len'] = pd.to_numeric(h3_fullseqs['branch_len'], errors='coerce')\n",
    "# Filter rows where 'branch_len' <= 20\n",
    "h3_fullseqs_filtered = h3_fullseqs[h3_fullseqs['branch_len'] <= 15]\n",
    "\n",
    "\n",
    "## Make wide tables of positions and amino acids in sequences from and to \n",
    "#add Trait column to seq_to file\n",
    "h3_fullseqs_trait_to = h3_fullseqs_filtered.assign(Trait=h3_fullseqs_filtered.trait_from + \"-\" + h3_fullseqs_filtered.trait_to)\\\n",
    "                                                  .drop(columns=[\"node_from\", \"node_to\", \"branch_len\", \"trait_from\", \"trait_to\", \"traitprob_from\", \"traitprob_to\", \"seq_from\"])\\\n",
    "                                                  .iloc[1:]\n",
    "# Convert to wide format\n",
    "h3_fullseqs_trait_to_wide = pd.DataFrame(columns=[\"Trait\"]+[\"pos\"+str(i) for i in range(1, 568)])\n",
    "\n",
    "data = []\n",
    "for i in range(len(h3_fullseqs_trait_to)):\n",
    "    seq_str = h3_fullseqs_trait_to.iloc[i].seq_to\n",
    "    seq_vec = list(seq_str)\n",
    "    row_data = [h3_fullseqs_trait_to.iloc[i].Trait] + seq_vec\n",
    "    data.append(row_data)\n",
    "\n",
    "columns = [\"Trait\"] + [\"pos\"+str(i) for i in range(1, 568)]\n",
    "h3_fullseqs_trait_to_wide = pd.DataFrame(data=data, columns=columns)\n",
    "\n",
    "h3_aa_columns_to = h3_fullseqs_trait_to_wide.iloc[:, 1:]\n",
    "\n",
    "#add Trait column to seq_from file\n",
    "h3_fullseqs_trait_from = h3_fullseqs_filtered.assign(Trait=h3_fullseqs_filtered.trait_from + \"-\" + h3_fullseqs_filtered.trait_to)\\\n",
    "                                                  .drop(columns=[\"node_from\", \"node_to\", \"branch_len\", \"trait_from\", \"trait_to\", \"traitprob_from\", \"traitprob_to\", \"seq_to\"])\\\n",
    "                                                  .iloc[1:]\n",
    "\n",
    "# Convert to wide format\n",
    "h3_fullseqs_trait_from_wide = pd.DataFrame(columns=[\"Trait\"]+[\"pos\"+str(i) for i in range(1, 568)])\n",
    "\n",
    "data = []\n",
    "for i in range(len(h3_fullseqs_trait_from)):\n",
    "    seq_str = h3_fullseqs_trait_from.iloc[i].seq_from\n",
    "    seq_vec = list(seq_str)\n",
    "    row_data = [h3_fullseqs_trait_from.iloc[i].Trait] + seq_vec\n",
    "    data.append(row_data)\n",
    "\n",
    "columns = [\"Trait\"] + [\"pos\"+str(i) for i in range(1, 568)]\n",
    "h3_fullseqs_trait_from_wide = pd.DataFrame(data=data, columns=columns)\n",
    "\n",
    "h3_aa_columns_from = h3_fullseqs_trait_from_wide.iloc[:, 1:]\n",
    "\n",
    "\n",
    "# Create a new DataFrame for mutation information\n",
    "h3_fullseq_wide_mut = pd.concat([h3_fullseqs_trait_to_wide, (h3_fullseqs_trait_from_wide.iloc[:, 1:] != h3_fullseqs_trait_to_wide.iloc[:, 1:]).astype(int)], axis=1)\n",
    "\n",
    "# Rename the mutation columns\n",
    "mutation_columns_h3 = [f'pos{i}_mut' for i in range(1, 568)]\n",
    "h3_fullseq_wide_mut.columns = list(h3_fullseqs_trait_to_wide.columns) + mutation_columns_h3\n",
    "h3_aa_columns_mut = h3_fullseq_wide_mut.iloc[:, 1:]"
   ]
  },
  {
   "cell_type": "markdown",
   "id": "408cb7a5-fafc-4923-a32d-c21444d0de17",
   "metadata": {},
   "source": [
    "##### one hot encode"
   ]
  },
  {
   "cell_type": "code",
   "execution_count": 56,
   "id": "6cafde41-7a1e-4601-9d18-cd44b9a4bb07",
   "metadata": {},
   "outputs": [],
   "source": [
    "h3_aa_onehot = one_hot_encode(h3_aa_columns_mut)\n",
    "h3_aa_onehot_traits = pd.concat([h3_fullseq_wide_mut.Trait, h3_aa_onehot], axis=1)\n",
    "h3_aa_onehot_traits2 = h3_aa_onehot_traits.assign(Trait_num=h3_aa_onehot_traits.Trait.replace({\"human-human\": 0, \"swine-swine\": 1, \"human-swine\": 2, \"swine-human\": 3})).drop(columns=[\"Trait\"])\n",
    "h3_onehot = h3_aa_onehot_traits2.loc[:, ['Trait_num'] + list(h3_aa_onehot_traits2.columns[:-1])]"
   ]
  },
  {
   "cell_type": "markdown",
   "id": "dd873090-09c9-4c12-9174-69f746c3a6b5",
   "metadata": {},
   "source": [
    "##### Filter away uninformative sites"
   ]
  },
  {
   "cell_type": "code",
   "execution_count": 57,
   "id": "63786fda-2d11-4f5f-b994-c8b044c1e6ba",
   "metadata": {},
   "outputs": [],
   "source": [
    "h3_onehot_filtered = filter_uninformative_sites(h3_onehot)"
   ]
  },
  {
   "cell_type": "markdown",
   "id": "ec8b6b85-6d46-4fd2-82ee-3f74b3724795",
   "metadata": {},
   "source": [
    "##### Save as csv"
   ]
  },
  {
   "cell_type": "code",
   "execution_count": 58,
   "id": "e2b1e60a-2fe6-4db1-91bc-6744c65b38ae",
   "metadata": {},
   "outputs": [],
   "source": [
    "folder_name = \"ha\"\n",
    "if not os.path.exists(folder_name):\n",
    "    os.makedirs(folder_name)\n",
    "\n",
    "file_path = os.path.join(folder_name, \"h3_onehot_filtered.csv\")\n",
    "h3_onehot_filtered.to_csv(file_path, index=False)"
   ]
  },
  {
   "cell_type": "markdown",
   "id": "9db8f147-34ec-4ab5-b3b3-7dc14c60973d",
   "metadata": {},
   "source": [
    "### NP"
   ]
  },
  {
   "cell_type": "code",
   "execution_count": 59,
   "id": "dc0199a7-f0ad-4960-bae3-3d57066eaf8c",
   "metadata": {
    "tags": []
   },
   "outputs": [],
   "source": [
    "# loading data\n",
    "np_fullseqs = pd.read_csv(\"/Users/kman/Desktop/ancestral_reconstruction_project_final/results/anclib/np/np_branchinfo_aa.txt\", sep=\"\\t\",\n",
    "                                    names=[\"node_from\", \"node_to\", \"branch_len\", \"trait_from\", \"trait_to\", \"traitprob_from\", \"traitprob_to\", \"seq_from\", \"seq_to\", \"branch_type\"])\n",
    "\n",
    "# Convert 'branch_len' column to numeric\n",
    "np_fullseqs['branch_len'] = pd.to_numeric(np_fullseqs['branch_len'], errors='coerce')\n",
    "# Filter rows where 'branch_len' <= 20\n",
    "np_fullseqs_filtered = np_fullseqs[np_fullseqs['branch_len'] <= 15]\n",
    "\n",
    "\n",
    "## Make wide tables of positions and amino acids in sequences from and to \n",
    "#add Trait column to seq_to file\n",
    "np_fullseqs_trait_to = np_fullseqs_filtered.assign(Trait=np_fullseqs_filtered.trait_from + \"-\" + np_fullseqs_filtered.trait_to)\\\n",
    "                                                  .drop(columns=[\"node_from\", \"node_to\", \"branch_len\", \"trait_from\", \"trait_to\", \"traitprob_from\", \"traitprob_to\", \"seq_from\"])\\\n",
    "                                                  .iloc[1:]\n",
    "# Convert to wide format\n",
    "np_fullseqs_trait_to_wide = pd.DataFrame(columns=[\"Trait\"]+[\"pos\"+str(i) for i in range(1, 500)])\n",
    "\n",
    "data = []\n",
    "for i in range(len(np_fullseqs_trait_to)):\n",
    "    seq_str = np_fullseqs_trait_to.iloc[i].seq_to\n",
    "    seq_vec = list(seq_str)\n",
    "    row_data = [np_fullseqs_trait_to.iloc[i].Trait] + seq_vec\n",
    "    data.append(row_data)\n",
    "\n",
    "columns = [\"Trait\"] + [\"pos\"+str(i) for i in range(1, 500)]\n",
    "np_fullseqs_trait_to_wide = pd.DataFrame(data=data, columns=columns)\n",
    "\n",
    "np_aa_columns_to = np_fullseqs_trait_to_wide.iloc[:, 1:]\n",
    "\n",
    "#add Trait column to seq_from file\n",
    "np_fullseqs_trait_from = np_fullseqs_filtered.assign(Trait=np_fullseqs_filtered.trait_from + \"-\" + np_fullseqs_filtered.trait_to)\\\n",
    "                                                  .drop(columns=[\"node_from\", \"node_to\", \"branch_len\", \"trait_from\", \"trait_to\", \"traitprob_from\", \"traitprob_to\", \"seq_to\"])\\\n",
    "                                                  .iloc[1:]\n",
    "\n",
    "# Convert to wide format\n",
    "np_fullseqs_trait_from_wide = pd.DataFrame(columns=[\"Trait\"]+[\"pos\"+str(i) for i in range(1, 500)])\n",
    "\n",
    "data = []\n",
    "for i in range(len(np_fullseqs_trait_from)):\n",
    "    seq_str = np_fullseqs_trait_from.iloc[i].seq_from\n",
    "    seq_vec = list(seq_str)\n",
    "    row_data = [np_fullseqs_trait_from.iloc[i].Trait] + seq_vec\n",
    "    data.append(row_data)\n",
    "\n",
    "columns = [\"Trait\"] + [\"pos\"+str(i) for i in range(1, 500)]\n",
    "np_fullseqs_trait_from_wide = pd.DataFrame(data=data, columns=columns)\n",
    "\n",
    "np_aa_columns_from = np_fullseqs_trait_from_wide.iloc[:, 1:]\n",
    "\n",
    "\n",
    "# Create a new DataFrame for mutation information\n",
    "np_fullseq_wide_mut = pd.concat([np_fullseqs_trait_to_wide, (np_fullseqs_trait_from_wide.iloc[:, 1:] != np_fullseqs_trait_to_wide.iloc[:, 1:]).astype(int)], axis=1)\n",
    "\n",
    "# Rename the mutation columns\n",
    "mutation_columns_np = [f'pos{i}_mut' for i in range(1, 500)]\n",
    "np_fullseq_wide_mut.columns = list(np_fullseqs_trait_to_wide.columns) + mutation_columns_np\n",
    "np_aa_columns_mut = np_fullseq_wide_mut.iloc[:, 1:]"
   ]
  },
  {
   "cell_type": "markdown",
   "id": "666727ef-f824-4f93-8587-d680da36cfdf",
   "metadata": {},
   "source": [
    "##### one hot encode"
   ]
  },
  {
   "cell_type": "code",
   "execution_count": 60,
   "id": "799521d2-01c5-4ae0-b211-8c797c63f57d",
   "metadata": {},
   "outputs": [],
   "source": [
    "np_aa_onehot = one_hot_encode(np_aa_columns_mut)\n",
    "np_aa_onehot_traits = pd.concat([np_fullseq_wide_mut.Trait, np_aa_onehot], axis=1)\n",
    "np_aa_onehot_traits2 = np_aa_onehot_traits.assign(Trait_num=np_aa_onehot_traits.Trait.replace({\"human-human\": 0, \"swine-swine\": 1, \"human-swine\": 2, \"swine-human\": 3})).drop(columns=[\"Trait\"])\n",
    "np_onehot = np_aa_onehot_traits2.loc[:, ['Trait_num'] + list(np_aa_onehot_traits2.columns[:-1])]"
   ]
  },
  {
   "cell_type": "markdown",
   "id": "94e3e881-198c-4732-b540-98a1ec5c2096",
   "metadata": {},
   "source": [
    "##### Filter away uninformative sites"
   ]
  },
  {
   "cell_type": "code",
   "execution_count": 61,
   "id": "b5000496-e88c-492d-bceb-3f835a1642eb",
   "metadata": {},
   "outputs": [],
   "source": [
    "np_onehot_filtered = filter_uninformative_sites(np_onehot)"
   ]
  },
  {
   "cell_type": "markdown",
   "id": "ceb90d51-8df7-4864-b630-ee226586336e",
   "metadata": {},
   "source": [
    "##### Save as csv"
   ]
  },
  {
   "cell_type": "code",
   "execution_count": 62,
   "id": "98a53549-8586-42eb-9c05-ba1dc0ff0bec",
   "metadata": {},
   "outputs": [],
   "source": [
    "folder_name = \"np\"\n",
    "if not os.path.exists(folder_name):\n",
    "    os.makedirs(folder_name)\n",
    "\n",
    "file_path = os.path.join(folder_name, \"np_onehot_filtered.csv\")\n",
    "np_onehot_filtered.to_csv(file_path, index=False)"
   ]
  },
  {
   "cell_type": "markdown",
   "id": "e0517ec5-5c39-411c-acef-b0609c49c89b",
   "metadata": {},
   "source": [
    "### N1"
   ]
  },
  {
   "cell_type": "code",
   "execution_count": 63,
   "id": "b312a8d0-7cf8-41e4-a12d-6fb3721f46bd",
   "metadata": {
    "tags": []
   },
   "outputs": [],
   "source": [
    "# loading data\n",
    "n1_fullseqs = pd.read_csv(\"/Users/kman/Desktop/ancestral_reconstruction_project_final/results/anclib/na/n1_branchinfo_aa.txt\", sep=\"\\t\",\n",
    "                                    names=[\"node_from\", \"node_to\", \"branch_len\", \"trait_from\", \"trait_to\", \"traitprob_from\", \"traitprob_to\", \"seq_from\", \"seq_to\", \"branch_type\"])\n",
    "\n",
    "# Convert 'branch_len' column to numeric\n",
    "n1_fullseqs['branch_len'] = pd.to_numeric(n1_fullseqs['branch_len'], errors='coerce')\n",
    "# Filter rows where 'branch_len' <= 20\n",
    "n1_fullseqs_filtered = n1_fullseqs[n1_fullseqs['branch_len'] <= 15]\n",
    "\n",
    "\n",
    "## Make wide tables of positions and amino acids in sequences from and to \n",
    "#add Trait column to seq_to file\n",
    "n1_fullseqs_trait_to = n1_fullseqs_filtered.assign(Trait=n1_fullseqs_filtered.trait_from + \"-\" + n1_fullseqs_filtered.trait_to)\\\n",
    "                                                  .drop(columns=[\"node_from\", \"node_to\", \"branch_len\", \"trait_from\", \"trait_to\", \"traitprob_from\", \"traitprob_to\", \"seq_from\"])\\\n",
    "                                                  .iloc[1:]\n",
    "# Convert to wide format\n",
    "n1_fullseqs_trait_to_wide = pd.DataFrame(columns=[\"Trait\"]+[\"pos\"+str(i) for i in range(1, 471)])\n",
    "\n",
    "data = []\n",
    "for i in range(len(n1_fullseqs_trait_to)):\n",
    "    seq_str = n1_fullseqs_trait_to.iloc[i].seq_to\n",
    "    seq_vec = list(seq_str)\n",
    "    row_data = [n1_fullseqs_trait_to.iloc[i].Trait] + seq_vec\n",
    "    data.append(row_data)\n",
    "\n",
    "columns = [\"Trait\"] + [\"pos\"+str(i) for i in range(1, 471)]\n",
    "n1_fullseqs_trait_to_wide = pd.DataFrame(data=data, columns=columns)\n",
    "\n",
    "n1_aa_columns_to = n1_fullseqs_trait_to_wide.iloc[:, 1:]\n",
    "\n",
    "#add Trait column to seq_from file\n",
    "n1_fullseqs_trait_from = n1_fullseqs_filtered.assign(Trait=n1_fullseqs_filtered.trait_from + \"-\" + n1_fullseqs_filtered.trait_to)\\\n",
    "                                                  .drop(columns=[\"node_from\", \"node_to\", \"branch_len\", \"trait_from\", \"trait_to\", \"traitprob_from\", \"traitprob_to\", \"seq_to\"])\\\n",
    "                                                  .iloc[1:]\n",
    "\n",
    "# Convert to wide format\n",
    "n1_fullseqs_trait_from_wide = pd.DataFrame(columns=[\"Trait\"]+[\"pos\"+str(i) for i in range(1, 471)])\n",
    "\n",
    "data = []\n",
    "for i in range(len(n1_fullseqs_trait_from)):\n",
    "    seq_str = n1_fullseqs_trait_from.iloc[i].seq_from\n",
    "    seq_vec = list(seq_str)\n",
    "    row_data = [n1_fullseqs_trait_from.iloc[i].Trait] + seq_vec\n",
    "    data.append(row_data)\n",
    "\n",
    "columns = [\"Trait\"] + [\"pos\"+str(i) for i in range(1, 471)]\n",
    "n1_fullseqs_trait_from_wide = pd.DataFrame(data=data, columns=columns)\n",
    "\n",
    "n1_aa_columns_from = n1_fullseqs_trait_from_wide.iloc[:, 1:]\n",
    "\n",
    "\n",
    "# Create a new DataFrame for mutation information\n",
    "n1_fullseq_wide_mut = pd.concat([n1_fullseqs_trait_to_wide, (n1_fullseqs_trait_from_wide.iloc[:, 1:] != n1_fullseqs_trait_to_wide.iloc[:, 1:]).astype(int)], axis=1)\n",
    "\n",
    "# Rename the mutation columns\n",
    "mutation_columns_n1 = [f'pos{i}_mut' for i in range(1, 471)]\n",
    "n1_fullseq_wide_mut.columns = list(n1_fullseqs_trait_to_wide.columns) + mutation_columns_n1\n",
    "n1_aa_columns_mut = n1_fullseq_wide_mut.iloc[:, 1:]"
   ]
  },
  {
   "cell_type": "markdown",
   "id": "1776a12e-959a-4182-b140-a39848a7bb74",
   "metadata": {},
   "source": [
    "##### one hot encode"
   ]
  },
  {
   "cell_type": "code",
   "execution_count": 64,
   "id": "146a2021-4d64-4e71-9011-d7a997869849",
   "metadata": {},
   "outputs": [],
   "source": [
    "n1_aa_onehot = one_hot_encode(n1_aa_columns_mut)\n",
    "n1_aa_onehot_traits = pd.concat([n1_fullseq_wide_mut.Trait, n1_aa_onehot], axis=1)\n",
    "n1_aa_onehot_traits2 = n1_aa_onehot_traits.assign(Trait_num=n1_aa_onehot_traits.Trait.replace({\"human-human\": 0, \"swine-swine\": 1, \"human-swine\": 2, \"swine-human\": 3})).drop(columns=[\"Trait\"])\n",
    "n1_onehot = n1_aa_onehot_traits2.loc[:, ['Trait_num'] + list(n1_aa_onehot_traits2.columns[:-1])]"
   ]
  },
  {
   "cell_type": "markdown",
   "id": "42d473dd-fbef-4f15-8b7e-29bca45cdecb",
   "metadata": {},
   "source": [
    "##### Filter away uninformative sites"
   ]
  },
  {
   "cell_type": "code",
   "execution_count": 65,
   "id": "3c70fae1-b0b5-423f-983b-fa47cbdd7fa2",
   "metadata": {},
   "outputs": [],
   "source": [
    "n1_onehot_filtered = filter_uninformative_sites(n1_onehot)"
   ]
  },
  {
   "cell_type": "markdown",
   "id": "a8b4cf90-6e1d-4a63-bc77-50ded476b6b1",
   "metadata": {},
   "source": [
    "##### Save as csv"
   ]
  },
  {
   "cell_type": "code",
   "execution_count": 66,
   "id": "3f53a555-f3c4-48c3-b197-a4f0ebcb03fe",
   "metadata": {},
   "outputs": [],
   "source": [
    "folder_name = \"na\"\n",
    "if not os.path.exists(folder_name):\n",
    "    os.makedirs(folder_name)\n",
    "\n",
    "file_path = os.path.join(folder_name, \"n1_onehot_filtered.csv\")\n",
    "n1_onehot_filtered.to_csv(file_path, index=False)"
   ]
  },
  {
   "cell_type": "markdown",
   "id": "b1efecf5-d039-4e8c-8d0e-2872e9398cd2",
   "metadata": {},
   "source": [
    "### N2"
   ]
  },
  {
   "cell_type": "code",
   "execution_count": 67,
   "id": "4c651d09-0207-4751-b57c-e58e06c4f872",
   "metadata": {
    "tags": []
   },
   "outputs": [],
   "source": [
    "# loading data\n",
    "n2_fullseqs = pd.read_csv(\"/Users/kman/Desktop/ancestral_reconstruction_project_final/results/anclib/na/n2_branchinfo_aa.txt\", sep=\"\\t\",\n",
    "                                    names=[\"node_from\", \"node_to\", \"branch_len\", \"trait_from\", \"trait_to\", \"traitprob_from\", \"traitprob_to\", \"seq_from\", \"seq_to\", \"branch_type\"])\n",
    "\n",
    "# Convert 'branch_len' column to numeric\n",
    "n2_fullseqs['branch_len'] = pd.to_numeric(n2_fullseqs['branch_len'], errors='coerce')\n",
    "# Filter rows where 'branch_len' <= 20\n",
    "n2_fullseqs_filtered = n2_fullseqs[n2_fullseqs['branch_len'] <= 15]\n",
    "\n",
    "\n",
    "## Make wide tables of positions and amino acids in sequences from and to \n",
    "#add Trait column to seq_to file\n",
    "n2_fullseqs_trait_to = n2_fullseqs_filtered.assign(Trait=n2_fullseqs_filtered.trait_from + \"-\" + n2_fullseqs_filtered.trait_to)\\\n",
    "                                                  .drop(columns=[\"node_from\", \"node_to\", \"branch_len\", \"trait_from\", \"trait_to\", \"traitprob_from\", \"traitprob_to\", \"seq_from\"])\\\n",
    "                                                  .iloc[1:]\n",
    "# Convert to wide format\n",
    "n2_fullseqs_trait_to_wide = pd.DataFrame(columns=[\"Trait\"]+[\"pos\"+str(i) for i in range(1, 471)])\n",
    "\n",
    "data = []\n",
    "for i in range(len(n2_fullseqs_trait_to)):\n",
    "    seq_str = n2_fullseqs_trait_to.iloc[i].seq_to\n",
    "    seq_vec = list(seq_str)\n",
    "    row_data = [n2_fullseqs_trait_to.iloc[i].Trait] + seq_vec\n",
    "    data.append(row_data)\n",
    "\n",
    "columns = [\"Trait\"] + [\"pos\"+str(i) for i in range(1, 471)]\n",
    "n2_fullseqs_trait_to_wide = pd.DataFrame(data=data, columns=columns)\n",
    "\n",
    "n2_aa_columns_to = n2_fullseqs_trait_to_wide.iloc[:, 1:]\n",
    "\n",
    "#add Trait column to seq_from file\n",
    "n2_fullseqs_trait_from = n2_fullseqs_filtered.assign(Trait=n2_fullseqs_filtered.trait_from + \"-\" + n2_fullseqs_filtered.trait_to)\\\n",
    "                                                  .drop(columns=[\"node_from\", \"node_to\", \"branch_len\", \"trait_from\", \"trait_to\", \"traitprob_from\", \"traitprob_to\", \"seq_to\"])\\\n",
    "                                                  .iloc[1:]\n",
    "\n",
    "# Convert to wide format\n",
    "n2_fullseqs_trait_from_wide = pd.DataFrame(columns=[\"Trait\"]+[\"pos\"+str(i) for i in range(1, 471)])\n",
    "\n",
    "data = []\n",
    "for i in range(len(n2_fullseqs_trait_from)):\n",
    "    seq_str = n2_fullseqs_trait_from.iloc[i].seq_from\n",
    "    seq_vec = list(seq_str)\n",
    "    row_data = [n2_fullseqs_trait_from.iloc[i].Trait] + seq_vec\n",
    "    data.append(row_data)\n",
    "\n",
    "columns = [\"Trait\"] + [\"pos\"+str(i) for i in range(1, 471)]\n",
    "n2_fullseqs_trait_from_wide = pd.DataFrame(data=data, columns=columns)\n",
    "\n",
    "n2_aa_columns_from = n2_fullseqs_trait_from_wide.iloc[:, 1:]\n",
    "\n",
    "\n",
    "# Create a new DataFrame for mutation information\n",
    "n2_fullseq_wide_mut = pd.concat([n2_fullseqs_trait_to_wide, (n2_fullseqs_trait_from_wide.iloc[:, 1:] != n2_fullseqs_trait_to_wide.iloc[:, 1:]).astype(int)], axis=1)\n",
    "\n",
    "# Rename the mutation columns\n",
    "mutation_columns_n2 = [f'pos{i}_mut' for i in range(1, 471)]\n",
    "n2_fullseq_wide_mut.columns = list(n2_fullseqs_trait_to_wide.columns) + mutation_columns_n2\n",
    "n2_aa_columns_mut = n2_fullseq_wide_mut.iloc[:, 1:]"
   ]
  },
  {
   "cell_type": "markdown",
   "id": "9bdd4611-107d-4370-8e23-59c6f545be15",
   "metadata": {},
   "source": [
    "##### one hot encode"
   ]
  },
  {
   "cell_type": "code",
   "execution_count": 68,
   "id": "e137c3d9-bbe1-4ef2-b51a-919facdd142f",
   "metadata": {},
   "outputs": [],
   "source": [
    "n2_aa_onehot = one_hot_encode(n2_aa_columns_mut)\n",
    "n2_aa_onehot_traits = pd.concat([n2_fullseq_wide_mut.Trait, n2_aa_onehot], axis=1)\n",
    "n2_aa_onehot_traits2 = n2_aa_onehot_traits.assign(Trait_num=n2_aa_onehot_traits.Trait.replace({\"human-human\": 0, \"swine-swine\": 1, \"human-swine\": 2, \"swine-human\": 3})).drop(columns=[\"Trait\"])\n",
    "n2_onehot = n2_aa_onehot_traits2.loc[:, ['Trait_num'] + list(n2_aa_onehot_traits2.columns[:-1])]"
   ]
  },
  {
   "cell_type": "markdown",
   "id": "347742c2-0f1a-4e5d-a024-9a5a5c0e6ec1",
   "metadata": {},
   "source": [
    "##### Filter away uninformative sites"
   ]
  },
  {
   "cell_type": "code",
   "execution_count": 69,
   "id": "499feaf4-3b3e-4c6e-bdf4-3994f1bd6986",
   "metadata": {},
   "outputs": [],
   "source": [
    "n2_onehot_filtered = filter_uninformative_sites(n2_onehot)"
   ]
  },
  {
   "cell_type": "markdown",
   "id": "a5b47857-e481-45de-9359-5aecda9e5074",
   "metadata": {},
   "source": [
    "##### Save as csv"
   ]
  },
  {
   "cell_type": "code",
   "execution_count": 70,
   "id": "5162dd20-8d89-4d3d-9bc6-3ab540677d48",
   "metadata": {},
   "outputs": [],
   "source": [
    "folder_name = \"na\"\n",
    "if not os.path.exists(folder_name):\n",
    "    os.makedirs(folder_name)\n",
    "\n",
    "file_path = os.path.join(folder_name, \"n2_onehot_filtered.csv\")\n",
    "n2_onehot_filtered.to_csv(file_path, index=False)"
   ]
  },
  {
   "cell_type": "markdown",
   "id": "e0a497b5-4443-4d9d-a576-d033851e5cd6",
   "metadata": {},
   "source": [
    "### M1"
   ]
  },
  {
   "cell_type": "code",
   "execution_count": 71,
   "id": "dbec3e05-7557-4e26-8fe4-1dffb60ed797",
   "metadata": {
    "tags": []
   },
   "outputs": [],
   "source": [
    "# loading data\n",
    "m1_fullseqs = pd.read_csv(\"/Users/kman/Desktop/ancestral_reconstruction_project_final/results/anclib/mp/m1_branchinfo_aa.txt\", sep=\"\\t\",\n",
    "                                    names=[\"node_from\", \"node_to\", \"branch_len\", \"trait_from\", \"trait_to\", \"traitprob_from\", \"traitprob_to\", \"seq_from\", \"seq_to\", \"branch_type\"])\n",
    "\n",
    "# Convert 'branch_len' column to numeric\n",
    "m1_fullseqs['branch_len'] = pd.to_numeric(m1_fullseqs['branch_len'], errors='coerce')\n",
    "# Filter rows where 'branch_len' <= 20\n",
    "m1_fullseqs_filtered = m1_fullseqs[m1_fullseqs['branch_len'] <= 15]\n",
    "\n",
    "\n",
    "## Make wide tables of positions and amino acids in sequences from and to \n",
    "#add Trait column to seq_to file\n",
    "m1_fullseqs_trait_to = m1_fullseqs_filtered.assign(Trait=m1_fullseqs_filtered.trait_from + \"-\" + m1_fullseqs_filtered.trait_to)\\\n",
    "                                                  .drop(columns=[\"node_from\", \"node_to\", \"branch_len\", \"trait_from\", \"trait_to\", \"traitprob_from\", \"traitprob_to\", \"seq_from\"])\\\n",
    "                                                  .iloc[1:]\n",
    "# Convert to wide format\n",
    "m1_fullseqs_trait_to_wide = pd.DataFrame(columns=[\"Trait\"]+[\"pos\"+str(i) for i in range(1, 253)])\n",
    "\n",
    "data = []\n",
    "for i in range(len(m1_fullseqs_trait_to)):\n",
    "    seq_str = m1_fullseqs_trait_to.iloc[i].seq_to\n",
    "    seq_vec = list(seq_str)\n",
    "    row_data = [m1_fullseqs_trait_to.iloc[i].Trait] + seq_vec\n",
    "    data.append(row_data)\n",
    "\n",
    "columns = [\"Trait\"] + [\"pos\"+str(i) for i in range(1, 253)]\n",
    "m1_fullseqs_trait_to_wide = pd.DataFrame(data=data, columns=columns)\n",
    "\n",
    "m1_aa_columns_to = m1_fullseqs_trait_to_wide.iloc[:, 1:]\n",
    "\n",
    "#add Trait column to seq_from file\n",
    "m1_fullseqs_trait_from = m1_fullseqs_filtered.assign(Trait=m1_fullseqs_filtered.trait_from + \"-\" + m1_fullseqs_filtered.trait_to)\\\n",
    "                                                  .drop(columns=[\"node_from\", \"node_to\", \"branch_len\", \"trait_from\", \"trait_to\", \"traitprob_from\", \"traitprob_to\", \"seq_to\"])\\\n",
    "                                                  .iloc[1:]\n",
    "\n",
    "# Convert to wide format\n",
    "m1_fullseqs_trait_from_wide = pd.DataFrame(columns=[\"Trait\"]+[\"pos\"+str(i) for i in range(1, 253)])\n",
    "\n",
    "data = []\n",
    "for i in range(len(m1_fullseqs_trait_from)):\n",
    "    seq_str = m1_fullseqs_trait_from.iloc[i].seq_from\n",
    "    seq_vec = list(seq_str)\n",
    "    row_data = [m1_fullseqs_trait_from.iloc[i].Trait] + seq_vec\n",
    "    data.append(row_data)\n",
    "\n",
    "columns = [\"Trait\"] + [\"pos\"+str(i) for i in range(1, 253)]\n",
    "m1_fullseqs_trait_from_wide = pd.DataFrame(data=data, columns=columns)\n",
    "\n",
    "m1_aa_columns_from = m1_fullseqs_trait_from_wide.iloc[:, 1:]\n",
    "\n",
    "\n",
    "# Create a new DataFrame for mutation information\n",
    "m1_fullseq_wide_mut = pd.concat([m1_fullseqs_trait_to_wide, (m1_fullseqs_trait_from_wide.iloc[:, 1:] != m1_fullseqs_trait_to_wide.iloc[:, 1:]).astype(int)], axis=1)\n",
    "\n",
    "# Rename the mutation columns\n",
    "mutation_columns_m1 = [f'pos{i}_mut' for i in range(1, 253)]\n",
    "m1_fullseq_wide_mut.columns = list(m1_fullseqs_trait_to_wide.columns) + mutation_columns_m1\n",
    "m1_aa_columns_mut = m1_fullseq_wide_mut.iloc[:, 1:]"
   ]
  },
  {
   "cell_type": "markdown",
   "id": "f6896140-b86d-436b-be8d-f1126932105a",
   "metadata": {},
   "source": [
    "##### one hot encode"
   ]
  },
  {
   "cell_type": "code",
   "execution_count": 72,
   "id": "26c5d435-cf77-4dd0-89be-27d12caf6e14",
   "metadata": {},
   "outputs": [],
   "source": [
    "m1_aa_onehot = one_hot_encode(m1_aa_columns_mut)\n",
    "m1_aa_onehot_traits = pd.concat([m1_fullseq_wide_mut.Trait, m1_aa_onehot], axis=1)\n",
    "m1_aa_onehot_traits2 = m1_aa_onehot_traits.assign(Trait_num=m1_aa_onehot_traits.Trait.replace({\"human-human\": 0, \"swine-swine\": 1, \"human-swine\": 2, \"swine-human\": 3})).drop(columns=[\"Trait\"])\n",
    "m1_onehot = m1_aa_onehot_traits2.loc[:, ['Trait_num'] + list(m1_aa_onehot_traits2.columns[:-1])]"
   ]
  },
  {
   "cell_type": "markdown",
   "id": "94156211-3d7e-4173-8466-f9c671710c78",
   "metadata": {},
   "source": [
    "##### Filter away uninformative sites"
   ]
  },
  {
   "cell_type": "code",
   "execution_count": 73,
   "id": "be0f8b30-3da6-426a-8500-b5ab72dcc8f4",
   "metadata": {},
   "outputs": [],
   "source": [
    "m1_onehot_filtered = filter_uninformative_sites(m1_onehot)"
   ]
  },
  {
   "cell_type": "markdown",
   "id": "1580f6d2-04df-4cf6-afed-53167b812755",
   "metadata": {},
   "source": [
    "##### Save as csv"
   ]
  },
  {
   "cell_type": "code",
   "execution_count": 74,
   "id": "266b71a1-24ae-40a3-bddf-09f346111f9f",
   "metadata": {},
   "outputs": [],
   "source": [
    "folder_name = \"mp\"\n",
    "if not os.path.exists(folder_name):\n",
    "    os.makedirs(folder_name)\n",
    "\n",
    "file_path = os.path.join(folder_name, \"m1_onehot_filtered.csv\")\n",
    "m1_onehot_filtered.to_csv(file_path, index=False)"
   ]
  },
  {
   "cell_type": "markdown",
   "id": "b579a0bb-f85d-442c-83ae-6ec02ff8be66",
   "metadata": {},
   "source": [
    "### M2"
   ]
  },
  {
   "cell_type": "code",
   "execution_count": 75,
   "id": "dbf88983-0108-40d9-9293-a453524b3031",
   "metadata": {
    "tags": []
   },
   "outputs": [],
   "source": [
    "# loading data\n",
    "m2_fullseqs = pd.read_csv(\"/Users/kman/Desktop/ancestral_reconstruction_project_final/results/anclib/mp/m2_branchinfo_aa.txt\", sep=\"\\t\",\n",
    "                                    names=[\"node_from\", \"node_to\", \"branch_len\", \"trait_from\", \"trait_to\", \"traitprob_from\", \"traitprob_to\", \"seq_from\", \"seq_to\", \"branch_type\"])\n",
    "\n",
    "# Convert 'branch_len' column to numeric\n",
    "m2_fullseqs['branch_len'] = pd.to_numeric(m2_fullseqs['branch_len'], errors='coerce')\n",
    "# Filter rows where 'branch_len' <= 20\n",
    "m2_fullseqs_filtered = m2_fullseqs[m2_fullseqs['branch_len'] <= 15]\n",
    "\n",
    "\n",
    "## Make wide tables of positions and amino acids in sequences from and to \n",
    "#add Trait column to seq_to file\n",
    "m2_fullseqs_trait_to = m2_fullseqs_filtered.assign(Trait=m2_fullseqs_filtered.trait_from + \"-\" + m2_fullseqs_filtered.trait_to)\\\n",
    "                                                  .drop(columns=[\"node_from\", \"node_to\", \"branch_len\", \"trait_from\", \"trait_to\", \"traitprob_from\", \"traitprob_to\", \"seq_from\"])\\\n",
    "                                                  .iloc[1:]\n",
    "# Convert to wide format\n",
    "m2_fullseqs_trait_to_wide = pd.DataFrame(columns=[\"Trait\"]+[\"pos\"+str(i) for i in range(1, 99)])\n",
    "\n",
    "data = []\n",
    "for i in range(len(m2_fullseqs_trait_to)):\n",
    "    seq_str = m2_fullseqs_trait_to.iloc[i].seq_to\n",
    "    seq_vec = list(seq_str)\n",
    "    row_data = [m2_fullseqs_trait_to.iloc[i].Trait] + seq_vec\n",
    "    data.append(row_data)\n",
    "\n",
    "columns = [\"Trait\"] + [\"pos\"+str(i) for i in range(1, 99)]\n",
    "m2_fullseqs_trait_to_wide = pd.DataFrame(data=data, columns=columns)\n",
    "\n",
    "m2_aa_columns_to = m2_fullseqs_trait_to_wide.iloc[:, 1:]\n",
    "\n",
    "#add Trait column to seq_from file\n",
    "m2_fullseqs_trait_from = m2_fullseqs_filtered.assign(Trait=m2_fullseqs_filtered.trait_from + \"-\" + m2_fullseqs_filtered.trait_to)\\\n",
    "                                                  .drop(columns=[\"node_from\", \"node_to\", \"branch_len\", \"trait_from\", \"trait_to\", \"traitprob_from\", \"traitprob_to\", \"seq_to\"])\\\n",
    "                                                  .iloc[1:]\n",
    "\n",
    "# Convert to wide format\n",
    "m2_fullseqs_trait_from_wide = pd.DataFrame(columns=[\"Trait\"]+[\"pos\"+str(i) for i in range(1, 99)])\n",
    "\n",
    "data = []\n",
    "for i in range(len(m2_fullseqs_trait_from)):\n",
    "    seq_str = m2_fullseqs_trait_from.iloc[i].seq_from\n",
    "    seq_vec = list(seq_str)\n",
    "    row_data = [m2_fullseqs_trait_from.iloc[i].Trait] + seq_vec\n",
    "    data.append(row_data)\n",
    "\n",
    "columns = [\"Trait\"] + [\"pos\"+str(i) for i in range(1, 99)]\n",
    "m2_fullseqs_trait_from_wide = pd.DataFrame(data=data, columns=columns)\n",
    "\n",
    "m2_aa_columns_from = m2_fullseqs_trait_from_wide.iloc[:, 1:]\n",
    "\n",
    "\n",
    "# Create a new DataFrame for mutation information\n",
    "m2_fullseq_wide_mut = pd.concat([m2_fullseqs_trait_to_wide, (m2_fullseqs_trait_from_wide.iloc[:, 1:] != m2_fullseqs_trait_to_wide.iloc[:, 1:]).astype(int)], axis=1)\n",
    "\n",
    "# Rename the mutation columns\n",
    "mutation_columns_m2 = [f'pos{i}_mut' for i in range(1, 99)]\n",
    "m2_fullseq_wide_mut.columns = list(m2_fullseqs_trait_to_wide.columns) + mutation_columns_m2\n",
    "m2_aa_columns_mut = m2_fullseq_wide_mut.iloc[:, 1:]"
   ]
  },
  {
   "cell_type": "markdown",
   "id": "b94339d8-8c0a-48bd-b639-63f9b7c17c2b",
   "metadata": {},
   "source": [
    "##### one hot encode"
   ]
  },
  {
   "cell_type": "code",
   "execution_count": 76,
   "id": "b36c3615-366c-42e2-8ab2-e614cbeb36ef",
   "metadata": {},
   "outputs": [],
   "source": [
    "m2_aa_onehot = one_hot_encode(m2_aa_columns_mut)\n",
    "m2_aa_onehot_traits = pd.concat([m2_fullseq_wide_mut.Trait, m2_aa_onehot], axis=1)\n",
    "m2_aa_onehot_traits2 = m2_aa_onehot_traits.assign(Trait_num=m2_aa_onehot_traits.Trait.replace({\"human-human\": 0, \"swine-swine\": 1, \"human-swine\": 2, \"swine-human\": 3})).drop(columns=[\"Trait\"])\n",
    "m2_onehot = m2_aa_onehot_traits2.loc[:, ['Trait_num'] + list(m2_aa_onehot_traits2.columns[:-1])]"
   ]
  },
  {
   "cell_type": "markdown",
   "id": "598e74eb-981c-4f63-a584-1820c6013923",
   "metadata": {},
   "source": [
    "##### Filter away uninformative sites"
   ]
  },
  {
   "cell_type": "code",
   "execution_count": 77,
   "id": "d010c8dd-9524-411d-8071-2ce25556206c",
   "metadata": {},
   "outputs": [],
   "source": [
    "m2_onehot_filtered = filter_uninformative_sites(m2_onehot)"
   ]
  },
  {
   "cell_type": "markdown",
   "id": "0c644170-05d8-4e43-97a4-cd9a13edee06",
   "metadata": {},
   "source": [
    "##### Save as csv"
   ]
  },
  {
   "cell_type": "code",
   "execution_count": 78,
   "id": "520e09f8-6f56-4377-9cbf-9651807f1f39",
   "metadata": {},
   "outputs": [],
   "source": [
    "folder_name = \"mp\"\n",
    "if not os.path.exists(folder_name):\n",
    "    os.makedirs(folder_name)\n",
    "\n",
    "file_path = os.path.join(folder_name, \"m2_onehot_filtered.csv\")\n",
    "m2_onehot_filtered.to_csv(file_path, index=False)"
   ]
  },
  {
   "cell_type": "markdown",
   "id": "e5b16a87-aaa4-42ff-8547-ac23dccd5aa3",
   "metadata": {},
   "source": [
    "### NS1"
   ]
  },
  {
   "cell_type": "code",
   "execution_count": 79,
   "id": "12f2d1e7-ecfb-492d-82ed-2e4d2e881e7e",
   "metadata": {
    "tags": []
   },
   "outputs": [],
   "source": [
    "# loading data\n",
    "ns1_fullseqs = pd.read_csv(\"/Users/kman/Desktop/ancestral_reconstruction_project_final/results/anclib/ns/ns1_branchinfo_aa.txt\", sep=\"\\t\",\n",
    "                                    names=[\"node_from\", \"node_to\", \"branch_len\", \"trait_from\", \"trait_to\", \"traitprob_from\", \"traitprob_to\", \"seq_from\", \"seq_to\", \"branch_type\"])\n",
    "\n",
    "# Convert 'branch_len' column to numeric\n",
    "ns1_fullseqs['branch_len'] = pd.to_numeric(ns1_fullseqs['branch_len'], errors='coerce')\n",
    "# Filter rows where 'branch_len' <= 20\n",
    "ns1_fullseqs_filtered = ns1_fullseqs[ns1_fullseqs['branch_len'] <= 15]\n",
    "\n",
    "\n",
    "## Make wide tables of positions and amino acids in sequences from and to \n",
    "#add Trait column to seq_to file\n",
    "ns1_fullseqs_trait_to = ns1_fullseqs_filtered.assign(Trait=ns1_fullseqs_filtered.trait_from + \"-\" + ns1_fullseqs_filtered.trait_to)\\\n",
    "                                                  .drop(columns=[\"node_from\", \"node_to\", \"branch_len\", \"trait_from\", \"trait_to\", \"traitprob_from\", \"traitprob_to\", \"seq_from\"])\\\n",
    "                                                  .iloc[1:]\n",
    "# Convert to wide format\n",
    "ns1_fullseqs_trait_to_wide = pd.DataFrame(columns=[\"Trait\"]+[\"pos\"+str(i) for i in range(1, 238)])\n",
    "\n",
    "data = []\n",
    "for i in range(len(ns1_fullseqs_trait_to)):\n",
    "    seq_str = ns1_fullseqs_trait_to.iloc[i].seq_to\n",
    "    seq_vec = list(seq_str)\n",
    "    row_data = [ns1_fullseqs_trait_to.iloc[i].Trait] + seq_vec\n",
    "    data.append(row_data)\n",
    "\n",
    "columns = [\"Trait\"] + [\"pos\"+str(i) for i in range(1, 238)]\n",
    "ns1_fullseqs_trait_to_wide = pd.DataFrame(data=data, columns=columns)\n",
    "\n",
    "ns1_aa_columns_to = ns1_fullseqs_trait_to_wide.iloc[:, 1:]\n",
    "\n",
    "#add Trait column to seq_from file\n",
    "ns1_fullseqs_trait_from = ns1_fullseqs_filtered.assign(Trait=ns1_fullseqs_filtered.trait_from + \"-\" + ns1_fullseqs_filtered.trait_to)\\\n",
    "                                                  .drop(columns=[\"node_from\", \"node_to\", \"branch_len\", \"trait_from\", \"trait_to\", \"traitprob_from\", \"traitprob_to\", \"seq_to\"])\\\n",
    "                                                  .iloc[1:]\n",
    "\n",
    "# Convert to wide format\n",
    "ns1_fullseqs_trait_from_wide = pd.DataFrame(columns=[\"Trait\"]+[\"pos\"+str(i) for i in range(1, 238)])\n",
    "\n",
    "data = []\n",
    "for i in range(len(ns1_fullseqs_trait_from)):\n",
    "    seq_str = ns1_fullseqs_trait_from.iloc[i].seq_from\n",
    "    seq_vec = list(seq_str)\n",
    "    row_data = [ns1_fullseqs_trait_from.iloc[i].Trait] + seq_vec\n",
    "    data.append(row_data)\n",
    "\n",
    "columns = [\"Trait\"] + [\"pos\"+str(i) for i in range(1, 238)]\n",
    "ns1_fullseqs_trait_from_wide = pd.DataFrame(data=data, columns=columns)\n",
    "\n",
    "ns1_aa_columns_from = ns1_fullseqs_trait_from_wide.iloc[:, 1:]\n",
    "\n",
    "\n",
    "# Create a new DataFrame for mutation information\n",
    "ns1_fullseq_wide_mut = pd.concat([ns1_fullseqs_trait_to_wide, (ns1_fullseqs_trait_from_wide.iloc[:, 1:] != ns1_fullseqs_trait_to_wide.iloc[:, 1:]).astype(int)], axis=1)\n",
    "\n",
    "# Rename the mutation columns\n",
    "mutation_columns_ns1 = [f'pos{i}_mut' for i in range(1, 238)]\n",
    "ns1_fullseq_wide_mut.columns = list(ns1_fullseqs_trait_to_wide.columns) + mutation_columns_ns1\n",
    "ns1_aa_columns_mut = ns1_fullseq_wide_mut.iloc[:, 1:]"
   ]
  },
  {
   "cell_type": "markdown",
   "id": "6d922ead-fe07-4219-b3ab-7e13a404d421",
   "metadata": {},
   "source": [
    "##### one hot encode"
   ]
  },
  {
   "cell_type": "code",
   "execution_count": 80,
   "id": "d085b62a-7c99-4fd9-8150-d92eb051a7ef",
   "metadata": {},
   "outputs": [],
   "source": [
    "ns1_aa_onehot = one_hot_encode(ns1_aa_columns_mut)\n",
    "ns1_aa_onehot_traits = pd.concat([ns1_fullseq_wide_mut.Trait, ns1_aa_onehot], axis=1)\n",
    "ns1_aa_onehot_traits2 = ns1_aa_onehot_traits.assign(Trait_num=ns1_aa_onehot_traits.Trait.replace({\"human-human\": 0, \"swine-swine\": 1, \"human-swine\": 2, \"swine-human\": 3})).drop(columns=[\"Trait\"])\n",
    "ns1_onehot = ns1_aa_onehot_traits2.loc[:, ['Trait_num'] + list(ns1_aa_onehot_traits2.columns[:-1])]"
   ]
  },
  {
   "cell_type": "markdown",
   "id": "9e065320-dd85-4d35-8d46-dff5245321fb",
   "metadata": {},
   "source": [
    "##### Filter away uninformative sites"
   ]
  },
  {
   "cell_type": "code",
   "execution_count": 81,
   "id": "eed38d1d-8129-4a05-9167-9cccb146ee0d",
   "metadata": {},
   "outputs": [],
   "source": [
    "ns1_onehot_filtered = filter_uninformative_sites(ns1_onehot)"
   ]
  },
  {
   "cell_type": "markdown",
   "id": "3ff8aa2d-da99-43f6-a1a6-56a920cc8e29",
   "metadata": {},
   "source": [
    "##### Save as csv"
   ]
  },
  {
   "cell_type": "code",
   "execution_count": 82,
   "id": "08d06013-68bc-4263-addf-01d7cc2c6844",
   "metadata": {},
   "outputs": [],
   "source": [
    "folder_name = \"ns\"\n",
    "if not os.path.exists(folder_name):\n",
    "    os.makedirs(folder_name)\n",
    "\n",
    "file_path = os.path.join(folder_name, \"ns1_onehot_filtered.csv\")\n",
    "ns1_onehot_filtered.to_csv(file_path, index=False)"
   ]
  },
  {
   "cell_type": "markdown",
   "id": "f4a6ee53-a3d5-4c31-b564-2684b3b43320",
   "metadata": {},
   "source": [
    "### NEP"
   ]
  },
  {
   "cell_type": "code",
   "execution_count": 83,
   "id": "b4c6b012-9c7e-4feb-9473-ca2640817f6f",
   "metadata": {
    "tags": []
   },
   "outputs": [],
   "source": [
    "# loading data\n",
    "nep_fullseqs = pd.read_csv(\"/Users/kman/Desktop/ancestral_reconstruction_project_final/results/anclib/ns/nep_branchinfo_aa.txt\", sep=\"\\t\",\n",
    "                                    names=[\"node_from\", \"node_to\", \"branch_len\", \"trait_from\", \"trait_to\", \"traitprob_from\", \"traitprob_to\", \"seq_from\", \"seq_to\", \"branch_type\"])\n",
    "\n",
    "# Convert 'branch_len' column to numeric\n",
    "nep_fullseqs['branch_len'] = pd.to_numeric(nep_fullseqs['branch_len'], errors='coerce')\n",
    "# Filter rows where 'branch_len' <= 20\n",
    "nep_fullseqs_filtered = nep_fullseqs[nep_fullseqs['branch_len'] <= 15]\n",
    "\n",
    "\n",
    "## Make wide tables of positions and amino acids in sequences from and to \n",
    "#add Trait column to seq_to file\n",
    "nep_fullseqs_trait_to = nep_fullseqs_filtered.assign(Trait=nep_fullseqs_filtered.trait_from + \"-\" + nep_fullseqs_filtered.trait_to)\\\n",
    "                                                  .drop(columns=[\"node_from\", \"node_to\", \"branch_len\", \"trait_from\", \"trait_to\", \"traitprob_from\", \"traitprob_to\", \"seq_from\"])\\\n",
    "                                                  .iloc[1:]\n",
    "# Convert to wide format\n",
    "nep_fullseqs_trait_to_wide = pd.DataFrame(columns=[\"Trait\"]+[\"pos\"+str(i) for i in range(1, 123)])\n",
    "\n",
    "data = []\n",
    "for i in range(len(nep_fullseqs_trait_to)):\n",
    "    seq_str = nep_fullseqs_trait_to.iloc[i].seq_to\n",
    "    seq_vec = list(seq_str)\n",
    "    row_data = [nep_fullseqs_trait_to.iloc[i].Trait] + seq_vec\n",
    "    data.append(row_data)\n",
    "\n",
    "columns = [\"Trait\"] + [\"pos\"+str(i) for i in range(1, 123)]\n",
    "nep_fullseqs_trait_to_wide = pd.DataFrame(data=data, columns=columns)\n",
    "\n",
    "nep_aa_columns_to = nep_fullseqs_trait_to_wide.iloc[:, 1:]\n",
    "\n",
    "#add Trait column to seq_from file\n",
    "nep_fullseqs_trait_from = nep_fullseqs_filtered.assign(Trait=nep_fullseqs_filtered.trait_from + \"-\" + nep_fullseqs_filtered.trait_to)\\\n",
    "                                                  .drop(columns=[\"node_from\", \"node_to\", \"branch_len\", \"trait_from\", \"trait_to\", \"traitprob_from\", \"traitprob_to\", \"seq_to\"])\\\n",
    "                                                  .iloc[1:]\n",
    "\n",
    "# Convert to wide format\n",
    "nep_fullseqs_trait_from_wide = pd.DataFrame(columns=[\"Trait\"]+[\"pos\"+str(i) for i in range(1, 123)])\n",
    "\n",
    "data = []\n",
    "for i in range(len(nep_fullseqs_trait_from)):\n",
    "    seq_str = nep_fullseqs_trait_from.iloc[i].seq_from\n",
    "    seq_vec = list(seq_str)\n",
    "    row_data = [nep_fullseqs_trait_from.iloc[i].Trait] + seq_vec\n",
    "    data.append(row_data)\n",
    "\n",
    "columns = [\"Trait\"] + [\"pos\"+str(i) for i in range(1, 123)]\n",
    "nep_fullseqs_trait_from_wide = pd.DataFrame(data=data, columns=columns)\n",
    "\n",
    "nep_aa_columns_from = nep_fullseqs_trait_from_wide.iloc[:, 1:]\n",
    "\n",
    "\n",
    "# Create a new DataFrame for mutation information\n",
    "nep_fullseq_wide_mut = pd.concat([nep_fullseqs_trait_to_wide, (nep_fullseqs_trait_from_wide.iloc[:, 1:] != nep_fullseqs_trait_to_wide.iloc[:, 1:]).astype(int)], axis=1)\n",
    "\n",
    "# Rename the mutation columns\n",
    "mutation_columns_nep = [f'pos{i}_mut' for i in range(1, 123)]\n",
    "nep_fullseq_wide_mut.columns = list(nep_fullseqs_trait_to_wide.columns) + mutation_columns_nep\n",
    "nep_aa_columns_mut = nep_fullseq_wide_mut.iloc[:, 1:]"
   ]
  },
  {
   "cell_type": "markdown",
   "id": "874505db-b80a-40b7-b458-b2179db95aab",
   "metadata": {},
   "source": [
    "##### one hot encode"
   ]
  },
  {
   "cell_type": "code",
   "execution_count": 84,
   "id": "a6109d52-377f-4bb0-b26f-7999a1292e51",
   "metadata": {},
   "outputs": [],
   "source": [
    "nep_aa_onehot = one_hot_encode(nep_aa_columns_mut)\n",
    "nep_aa_onehot_traits = pd.concat([nep_fullseq_wide_mut.Trait, nep_aa_onehot], axis=1)\n",
    "nep_aa_onehot_traits2 = nep_aa_onehot_traits.assign(Trait_num=nep_aa_onehot_traits.Trait.replace({\"human-human\": 0, \"swine-swine\": 1, \"human-swine\": 2, \"swine-human\": 3})).drop(columns=[\"Trait\"])\n",
    "nep_onehot = nep_aa_onehot_traits2.loc[:, ['Trait_num'] + list(nep_aa_onehot_traits2.columns[:-1])]"
   ]
  },
  {
   "cell_type": "markdown",
   "id": "cc91d1d4-7481-49b9-9c9b-b9cea7059ee7",
   "metadata": {},
   "source": [
    "##### Filter away uninformative sites"
   ]
  },
  {
   "cell_type": "code",
   "execution_count": 85,
   "id": "f4465e74-433e-47d6-ab22-43360c40714a",
   "metadata": {},
   "outputs": [],
   "source": [
    "nep_onehot_filtered = filter_uninformative_sites(nep_onehot)"
   ]
  },
  {
   "cell_type": "markdown",
   "id": "a3a77048-cb6b-43f5-8f5e-e406fe2bfcf7",
   "metadata": {},
   "source": [
    "##### Save as csv"
   ]
  },
  {
   "cell_type": "code",
   "execution_count": 86,
   "id": "38de2f33-9e77-4d6e-b6f8-c9be1a456e85",
   "metadata": {},
   "outputs": [],
   "source": [
    "folder_name = \"ns\"\n",
    "if not os.path.exists(folder_name):\n",
    "    os.makedirs(folder_name)\n",
    "\n",
    "file_path = os.path.join(folder_name, \"nep_onehot_filtered.csv\")\n",
    "nep_onehot_filtered.to_csv(file_path, index=False)"
   ]
  }
 ],
 "metadata": {
  "kernelspec": {
   "display_name": "Python 3 (ipykernel)",
   "language": "python",
   "name": "python3"
  },
  "language_info": {
   "codemirror_mode": {
    "name": "ipython",
    "version": 3
   },
   "file_extension": ".py",
   "mimetype": "text/x-python",
   "name": "python",
   "nbconvert_exporter": "python",
   "pygments_lexer": "ipython3",
   "version": "3.9.5"
  }
 },
 "nbformat": 4,
 "nbformat_minor": 5
}
